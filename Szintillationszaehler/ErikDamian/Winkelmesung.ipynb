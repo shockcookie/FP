{
 "cells": [
  {
   "cell_type": "code",
   "execution_count": 1,
   "metadata": {},
   "outputs": [
    {
     "name": "stdout",
     "output_type": "stream",
     "text": [
      "Populating the interactive namespace from numpy and matplotlib\n"
     ]
    }
   ],
   "source": [
    "%pylab inline\n",
    "import uncertainties\n",
    "from uncertainties import ufloat as ufloat\n",
    "from uncertainties import unumpy as unp\n",
    "from numpy import array as array\n",
    "\n",
    "# Daten einlesen\n",
    "def read (path,offset=2, *kwargs):\n",
    "    from numpy import array as array\n",
    "    doc = []\n",
    "    with open (path+\".TKA\", 'r') as myfile:\n",
    "        data = myfile.read().replace(',', '.').replace('\\n', ',').replace('  ', ',').replace(\"\\t\",\",\")\n",
    "        datarray = data.split(',')\n",
    "        output = []\n",
    "    for item in datarray:\n",
    "        if item != '':\n",
    "            output.append(int(item))\n",
    "    dataset = array(output[offset:])\n",
    "    dataset = [array(range(len(dataset))), dataset]\n",
    "    return dataset"
   ]
  },
  {
   "cell_type": "code",
   "execution_count": 2,
   "metadata": {},
   "outputs": [],
   "source": [
    "def fit_pm(x, y, func=lambda x: x, p0=None):\n",
    "    \"\"\"\n",
    "        fit_pm takes data points and makes an exponential curve fit. It returns\n",
    "        the parameters with errors and the coefficient of determination\n",
    "        Parameters:\n",
    "        -----------\n",
    "        x: x-value of the data points.\n",
    "        y: y-value of the data points.\n",
    "        func: Function to be fitted to.\n",
    "        Returns:\n",
    "        -----------\n",
    "        list: Gives back a list with the parameters of an expotential function the\n",
    "              corresponding errors and the coefficient of determination.\n",
    "    \"\"\"\n",
    "    from scipy.optimize import curve_fit\n",
    "    import numpy as np\n",
    "    popt, pcov = curve_fit(func, val(x), val(y),sigma=err(y), p0=p0)\n",
    "    params = popt.copy()\n",
    "    errors = np.sqrt(np.diag(pcov))\n",
    "    r = np.array(y) - func(np.array(x), *params)\n",
    "    rss = np.sum(r ** 2)\n",
    "    tss = np.sum((y - np.mean(y)) ** 2)\n",
    "    R_2 = 1 - (rss / tss)\n",
    "    try:\n",
    "        from uncertainties import unumpy as unp\n",
    "        return unp.uarray(params, errors), R_2\n",
    "    except:\n",
    "        return np.array(params), np.array(errors), R_2\n",
    "\n",
    "def linfit_pm(x, y, p0=None):\n",
    "    return fit_pm(x, y, func=lambda x, a, b,: a * x + b, p0=p0)\n",
    "\n",
    "def val(x):\n",
    "    from uncertainties import unumpy\n",
    "    try:\n",
    "        return unumpy.nominal_values(x)\n",
    "    except TypeError:\n",
    "        return x\n",
    "\n",
    "def err(x):\n",
    "    from uncertainties import unumpy\n",
    "    return unumpy.std_devs(x)\n",
    "\n",
    "def gaus(x, mu, sigma, A, B):\n",
    "    import numpy as np\n",
    "    return B + A * np.e ** ((-1 * (x - mu) ** 2) / (2 * sigma ** 2))\n",
    "\n",
    "def gausfit_pm(x, y, p0=None):\n",
    "    import numpy as np\n",
    "    return fit_pm(x, y, func=lambda x, mu, sigma, A, B: B + A * np.e ** ((-1 * (x - mu) ** 2) / (2 * sigma ** 2)), p0=p0)"
   ]
  },
  {
   "cell_type": "code",
   "execution_count": 3,
   "metadata": {},
   "outputs": [],
   "source": [
    "data1_r = [[0,1,2,3,4,5,6,7,8,9,10,12.5,15,20,25,30,40,50,60,70,80],[1500,1480,1453,1428,1352,1180,979,880,576,350,208,108,101,101,104,99,77,77,77,71,79]]\n",
    "backg = [ufloat(90,0.01),ufloat(759,np.sqrt(759))]\n",
    "data2_r = [[0,1,2,3,4,5,6,7,8,9,10,12.5,15,20,25,30,40,60,80,90],\n",
    "         [1495,1404,1386,1314,1104,906,616,450,300,192,119,99,99,104,98,90,66,80,70,95]]\n",
    "\n",
    "errs1 = (0.01,0.5,0.5,0.5,0.5,0.01,0.5,0.5,0.5,0.5,0.01,0.5,0.01,0.01,0.01,0.01,0.01,0.01,0.01,0.01,0.01)\n",
    "errs2 = (0.01,0.5,0.5,0.5,0.5,0.01,0.5,0.5,0.5,0.5,0.01,0.5,0.01,0.01,0.01,0.01,0.01,0.01,0.01,0.01)\n",
    "data1 = (unp.uarray(data1_r[0],errs1),unp.uarray(data1_r[1],[sqrt(item) for item in data1_r[1]]))\n",
    "data2 = (unp.uarray(data2_r[0],errs2),unp.uarray(data2_r[1],[sqrt(item) for item in data2_r[1]]))         "
   ]
  },
  {
   "cell_type": "code",
   "execution_count": 4,
   "metadata": {},
   "outputs": [],
   "source": [
    "data = []\n",
    "data.append(concatenate(\n",
    "    [-data1[0],\n",
    "     #backg[0]/1000,\n",
    "     data2[0]]))\n",
    "data.append(concatenate([data1[1]/100,\n",
    "                         #backg[1]/1000,\n",
    "                         data2[1]/100]))\n",
    "backg[1] /= 1000\n",
    "#data[0] =concatenate(array([list(data[0]),[-1*backg[0]]]))\n",
    "#data[1] = concatenate(array([list(data[1]),[backg[1]]]))\n",
    "data[1]-=backg[1]\n"
   ]
  },
  {
   "cell_type": "code",
   "execution_count": 12,
   "metadata": {},
   "outputs": [
    {
     "data": {
      "image/png": "[encoded data removed]",
      "text/plain": [
       "<Figure size 432x288 with 1 Axes>"
      ]
     },
     "metadata": {
      "needs_background": "light"
     },
     "output_type": "display_data"
    }
   ],
   "source": [
    "plt.errorbar(val(data[0]),val(data[1]),yerr=err(data[1]),xerr=err(data[0]),fmt=\"x\")\n",
    "peak, perr = gausfit_pm(*data,p0=(0,10,14,0))\n",
    "x = np.arange(-90,90,0.01)\n",
    "y = gaus(x,*peak)\n",
    "plt.plot(x,val(y))\n",
    "plt.show()"
   ]
  },
  {
   "cell_type": "code",
   "execution_count": 13,
   "metadata": {},
   "outputs": [
    {
     "data": {
      "text/plain": [
       "array([-0.8062988864344501+/-0.11033195246424068,\n",
       "       4.578195767372925+/-0.09553848761938857,\n",
       "       15.358947747991051+/-0.38354441378223614,\n",
       "       0.04142470602989676+/-0.061339564080818774], dtype=object)"
      ]
     },
     "execution_count": 13,
     "metadata": {},
     "output_type": "execute_result"
    }
   ],
   "source": [
    "peak"
   ]
  },
  {
   "cell_type": "code",
   "execution_count": 14,
   "metadata": {},
   "outputs": [
    {
     "data": {
      "text/plain": [
       "0.984510150814158+/-0.0053419224343752795"
      ]
     },
     "execution_count": 14,
     "metadata": {},
     "output_type": "execute_result"
    }
   ],
   "source": [
    "perr"
   ]
  },
  {
   "cell_type": "code",
   "execution_count": 10,
   "metadata": {},
   "outputs": [
    {
     "data": {
      "text/plain": [
       "15.400363849257376"
      ]
     },
     "execution_count": 10,
     "metadata": {},
     "output_type": "execute_result"
    }
   ],
   "source": [
    "y.argmax()\n",
    "max(y)"
   ]
  }
 ],
 "metadata": {
  "kernelspec": {
   "display_name": "Python 3",
   "language": "python",
   "name": "python3"
  },
  "language_info": {
   "codemirror_mode": {
    "name": "ipython",
    "version": 3
   },
   "file_extension": ".py",
   "mimetype": "text/x-python",
   "name": "python",
   "nbconvert_exporter": "python",
   "pygments_lexer": "ipython3",
   "version": "3.7.4"
  }
 },
 "nbformat": 4,
 "nbformat_minor": 2
}
