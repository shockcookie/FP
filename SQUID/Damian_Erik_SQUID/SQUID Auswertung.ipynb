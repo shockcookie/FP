{
 "cells": [
  {
   "cell_type": "code",
   "execution_count": 1,
   "metadata": {},
   "outputs": [
    {
     "name": "stdout",
     "output_type": "stream",
     "text": [
      "Populating the interactive namespace from numpy and matplotlib\n"
     ]
    }
   ],
   "source": [
    "%pylab inline\n",
    "import ThonkTools as TT\n",
    "from uncertainties import unumpy as unp\n",
    "from uncertainties import ufloat\n",
    "from scipy import interpolate\n",
    "from scipy.optimize import curve_fit"
   ]
  },
  {
   "cell_type": "code",
   "execution_count": 2,
   "metadata": {},
   "outputs": [],
   "source": [
    "def csvReader(x):\n",
    "    \"\"\"\n",
    "        csvReader takes a csv file and creats a list with lists of the colloms.\n",
    "        It also turns strings into numbers if possible.\n",
    "    \"\"\"\n",
    "    import csv\n",
    "    with open(x, 'r') as csvFile:\n",
    "        reader = csv.reader(csvFile)\n",
    "        l = None\n",
    "        for row in reader:\n",
    "            if l == None:\n",
    "                l = [[] for i in range(len(row))]\n",
    "                for i in range(len(l)):\n",
    "                    try:\n",
    "                        try:\n",
    "                            l[i].append(float(row[i]))\n",
    "                        except:\n",
    "                            l[i].append(row[i])\n",
    "                    except:\n",
    "                        None\n",
    "            else:\n",
    "                for i in range(len(l)):\n",
    "                    try:\n",
    "                        try:\n",
    "                            l[i].append(float(row[i]))\n",
    "                        except:\n",
    "                            l[i].append(row[i])\n",
    "                    except:\n",
    "                        None\n",
    "    return l    \n",
    "    csvFile.close()"
   ]
  },
  {
   "cell_type": "code",
   "execution_count": 3,
   "metadata": {},
   "outputs": [],
   "source": [
    "def fit(x, y, func=lambda x: x, p0=None, r=None, d=None, sigma=None):\n",
    "    \"\"\"\n",
    "        fit takes data points, calculates the curve fit, and gives back\n",
    "        the values with which the curve can be plotted\n",
    "        Parameters:\n",
    "        -----------\n",
    "        x: x-value of the data points.\n",
    "        y: y-value of the data points.\n",
    "        func: the function type the curve_fit will be applied to.\n",
    "        r: determines the size of steps in which the x-achse intervall is split.\n",
    "        d: tuple which determines the start and end point of the x-achse intervall on which the\n",
    "            will be drawn. If not given the curve will be drawn between the largest and the smalest\n",
    "            given x-value.\n",
    "        Returns:\n",
    "        -----------\n",
    "        xnew: x-value with which the fitted curve can be plotted.\n",
    "        ynew: y-value with which the fitted curve can be plotted.\n",
    "    \"\"\"\n",
    "    import numpy as np\n",
    "    from scipy.optimize import curve_fit\n",
    "    popt, pvoc = curve_fit(func, x, y, p0=p0, sigma=sigma)\n",
    "    params = popt.copy()\n",
    "    if d == None:\n",
    "        if r == None:\n",
    "            xnew = np.arange(min(x), max(x), np.abs((max(x) - min(x)) / 100))\n",
    "        else:\n",
    "            xnew = np.arange(min(x), max(x), r)\n",
    "    else:\n",
    "        if r == None:\n",
    "            xnew = np.arange(min(d), max(d), np.abs((max(x) - min(x)) / 100))\n",
    "        else:\n",
    "            xnew = np.arange(min(d), max(d), r)\n",
    "    ynew = func(xnew, *params)\n",
    "    return xnew, ynew\n",
    "\n",
    "def linfit(x, y, p0=None, r=None, d=None, sigma=None):\n",
    "    return fit(x, y, func=lambda x, a, b,: a * x + b, r=r, d=d, p0=p0, sigma=sigma)\n",
    "\n",
    "def Squidfit(x, y, p0=None, r=None, d=None, sigma=None):\n",
    "    return fit(x, y, func=lambda x, a, b, c, d: a + b * sin(c * x + d), r=r, d=d, p0=p0, sigma=sigma)"
   ]
  },
  {
   "cell_type": "code",
   "execution_count": 4,
   "metadata": {},
   "outputs": [],
   "source": [
    "def fit_pm(x, y, func=lambda x: x, p0=None, sigma=None):\n",
    "    \"\"\"\n",
    "        fit_pm takes data points and makes an exponential curve fit. It returns\n",
    "        the parameters with errors and the coefficient of determination\n",
    "        Parameters:\n",
    "        -----------\n",
    "        x: x-value of the data points.\n",
    "        y: y-value of the data points.\n",
    "        func: Function to be fitted to.\n",
    "        Returns:\n",
    "        -----------\n",
    "        list: Gives back a list with the parameters of an expotential function the\n",
    "              corresponding errors and the coefficient of determination.\n",
    "    \"\"\"\n",
    "    from scipy.optimize import curve_fit\n",
    "    import numpy as np\n",
    "    popt, pcov = curve_fit(func, x, y, p0=p0, sigma=sigma)\n",
    "    params = popt.copy()\n",
    "    errors = np.sqrt(np.diag(pcov))\n",
    "    r = np.array(y) - func(np.array(x), *params)\n",
    "    rss = np.sum(r ** 2)\n",
    "    tss = np.sum((y - np.mean(y)) ** 2)\n",
    "    R_2 = 1 - (rss / tss)\n",
    "    try:\n",
    "        from uncertainties import unumpy as unp\n",
    "        return unp.uarray(params, errors), R_2\n",
    "    except:\n",
    "        return np.array(params), np.array(errors), R_2\n",
    "    \n",
    "def linfit_pm(x, y, p0=None, sigma=None):\n",
    "    return fit_pm(x, y, func=lambda x, a, b,: a * x + b, p0=p0, sigma=sigma)\n",
    "\n",
    "def Squidfit_pm(x, y, p0=None, sigma=None):\n",
    "    return fit_pm(x, y, func=lambda x, a, b, c, d: a + b * np.sin(c * x + d), p0=p0, sigma=sigma)"
   ]
  },
  {
   "cell_type": "code",
   "execution_count": 5,
   "metadata": {},
   "outputs": [],
   "source": [
    "def mean(arr):\n",
    "    return sum(arr) / len(arr)\n",
    "\n",
    "\n",
    "def wmean(arr, err):\n",
    "    if err != None:\n",
    "        return [sum(arr * err) / sum(err), 1 / sqrt(sum(err))]\n",
    "    else:\n",
    "        from uncertainties import ufloat\n",
    "        return ufloat(sum(arr.n * arr.s) / sum(arr.s), 1 / sqrt(sum(arr.s)))\n",
    "\n",
    "\n",
    "def meandev(arr, uncertainties=False):\n",
    "    if uncertainties == True:\n",
    "        arr = arr.nominal_values()\n",
    "    m = mean(arr)\n",
    "    return sqrt((1 / (len(arr) - 1)) * sum((arr - m) ** 2)) / sqrt(len(arr))\n",
    "\n",
    "\n",
    "def nmean(arr, uncertainties=False):\n",
    "    from uncertainties import ufloat\n",
    "    if uncertainties == True:\n",
    "        arr = arr.nominal_value()\n",
    "    return ufloat(mean(arr), meandev(arr))\n",
    "\n",
    "\n",
    "def gmean(arr, error=None, uncertainties=False):\n",
    "    from uncertainties import ufloat\n",
    "    if error == None:\n",
    "        arr_error = []\n",
    "        arr_value = []\n",
    "        for i in range(len(arr)):\n",
    "            arr_error.append(arr[i].std_dev)\n",
    "            arr_value.append(arr[i].nominal_value)\n",
    "    else:\n",
    "        arr_value = arr\n",
    "        arr_error = error\n",
    "    g = 1 / np.array(arr_error)**2\n",
    "    k = g * arr_value\n",
    "    val = sum(k) / sum(g)\n",
    "    err = 1 / np.sqrt(sum(g))\n",
    "    if uncertainties == False:\n",
    "        return val, err\n",
    "    else:\n",
    "        val = ufloat(val,err)\n",
    "        return val"
   ]
  },
  {
   "cell_type": "code",
   "execution_count": 6,
   "metadata": {},
   "outputs": [],
   "source": [
    "def Squid(x,p0,Name,Test,start=1, end=None):\n",
    "    ### FigureSize\n",
    "\n",
    "    fig_size = plt.rcParams[\"figure.figsize\"]\n",
    "    fig_size[0] = 10\n",
    "    fig_size[1] = 7.5\n",
    "    plt.rcParams[\"figure.figsize\"] = fig_size\n",
    "\n",
    "    ###   Errors / Fit / Plot\n",
    "    xnew , ynew = Squidfit(x[0][start:end],x[1][start:end], p0, r=0.1)\n",
    "    k = Squidfit_pm(x[0][start:end],x[1][start:end],p0)\n",
    "    if Test[1] == True:\n",
    "        plt.plot(x[0][start:end],x[1][start:end],label='Data Points of the Squid Signal')\n",
    "        plt.plot(xnew,ynew,label='Sinus Fit of the Squid Signal')\n",
    "        if Test[0] == True:\n",
    "            x_test = arange(min(x[0][start:end]),max(x[0][start:end]),0.1)\n",
    "            plt.plot(x_test, p0[0] + p0[1] * sin(p0[2] * x_test + p0[3]),label='test')\n",
    "        else:\n",
    "            None\n",
    "        ###   Label / Title\n",
    "    \n",
    "        plt.ylabel(r'Voltage$\\,[\\mathrm{V}]$', fontsize=13)\n",
    "        plt.xlabel(r'Time$\\,[\\mathrm{s}]$', fontsize=13)\n",
    "        #plt.title('Squid Signal of the Conductor Loop', fontsize=20)\n",
    "\n",
    "        ###   Axes / Grid\n",
    "\n",
    "        axes = plt.gca()  ##  Searches current Axes\n",
    "\n",
    "        axes.set_xlim([min(x[0][start:end]),max(x[0][start:end])])\n",
    "        #axes.set_ylim([-300,370])\n",
    "\n",
    "        #axes.set_yticks([0,10,20,30,40,50,60,70,80,90,100,110])\n",
    "        #axes.set_xticks([0.1,0.2,0.3,0.4,0.5,0.6,0.7,0.8])\n",
    "    \n",
    "        axes.grid(which='major', linestyle='-', linewidth='1', color='black')\n",
    "        axes.grid(which='minor', linestyle=':', color='gray')\n",
    "        axes.minorticks_on()\n",
    "    \n",
    "        plt.legend(fontsize=10)\n",
    "        plt.savefig(Name)\n",
    "        plt.show()\n",
    "    else:\n",
    "        None\n",
    "    return k"
   ]
  },
  {
   "cell_type": "markdown",
   "metadata": {},
   "source": [
    "# Algemeine Werte\n"
   ]
  },
  {
   "cell_type": "code",
   "execution_count": 7,
   "metadata": {},
   "outputs": [
    {
     "name": "stdout",
     "output_type": "stream",
     "text": [
      "26.43 \\pm 0.10\n"
     ]
    }
   ],
   "source": [
    "#Abstand Top to SQUID (d_ts)\n",
    "d_ts_1_val, d_ts_1_err = gmean([1.4,1.4,1.4],[0.1,0.1,0.1])\n",
    "d_ts_1 = ufloat(d_ts_1_val, d_ts_1_err)\n",
    "d_ts_2_val, d_ts_2_err = gmean([2.1,2.1,1.7],[0.1,0.1,0.1])\n",
    "d_ts_2 = ufloat(d_ts_2_val, d_ts_2_err)\n",
    "d_ts_3_val, d_ts_3_err = gmean([23.1,23.1,23],[0.1,0.1,0.1])\n",
    "d_ts_3 = ufloat(d_ts_3_val, d_ts_3_err)\n",
    "d_ts = d_ts_1 + d_ts_2 + d_ts_3\n",
    "print('{:L}'.format(d_ts))"
   ]
  },
  {
   "cell_type": "code",
   "execution_count": 8,
   "metadata": {},
   "outputs": [
    {
     "name": "stdout",
     "output_type": "stream",
     "text": [
      "29.08 \\pm 0.06\n"
     ]
    }
   ],
   "source": [
    "#Abstand Probe to Top\n",
    "d_tp_val, d_tp_err = gmean([29.05,29.1,29.1],[0.1,0.1,0.1])\n",
    "print('{:L}'.format(ufloat(d_tp_val, d_tp_err)))"
   ]
  },
  {
   "cell_type": "code",
   "execution_count": 9,
   "metadata": {},
   "outputs": [
    {
     "name": "stdout",
     "output_type": "stream",
     "text": [
      "2.65 \\pm 0.12\n"
     ]
    }
   ],
   "source": [
    "#Abstand SQUID to Probe\n",
    "d_sp = abs(d_ts - ufloat(d_tp_val, d_tp_err))\n",
    "print('{:L}'.format(d_sp))"
   ]
  },
  {
   "cell_type": "code",
   "execution_count": 10,
   "metadata": {},
   "outputs": [
    {
     "name": "stdout",
     "output_type": "stream",
     "text": [
      "3.117 \\pm 0.020\n",
      "1.558 \\pm 0.010\n"
     ]
    }
   ],
   "source": [
    "#Loop radius\n",
    "r_val, r_err = gmean([2.9,3.1,3.3,3.0,3.1,3.3],[0.05,0.05,0.05,0.05,0.05,0.05])\n",
    "r_Loop = ufloat(r_val,r_err)/2\n",
    "print('{:L}'.format(ufloat(r_val,r_err)))\n",
    "print('{:L}'.format(r_Loop))"
   ]
  },
  {
   "cell_type": "code",
   "execution_count": 59,
   "metadata": {},
   "outputs": [
    {
     "name": "stdout",
     "output_type": "stream",
     "text": [
      "[[51.47+/-0.051000000000000004 100.8+/-0.1008 300.8+/-0.3008\n",
      "  510.6+/-0.5106 1000.0+/-1.0]]\n"
     ]
    }
   ],
   "source": [
    "#Wiederstände Spannung aus Batterien\n",
    "R_S = unp.uarray([51.47,100.8,300.8,510.6,1000],[[51*0.001,100.8*0.001,300.8*0.001,510.6*0.001,1000*0.001]])\n",
    "R_M = []\n",
    "U_B = ufloat(1.459,0.0005)+ufloat(1.494,0.0005)  #Fehler Missing frag Erik\n",
    "print(R_S)"
   ]
  },
  {
   "cell_type": "markdown",
   "metadata": {},
   "source": [
    "# Messreihen fitten und plotten"
   ]
  },
  {
   "cell_type": "code",
   "execution_count": 12,
   "metadata": {},
   "outputs": [],
   "source": [
    "calib = csvReader('first_calibration.csv')"
   ]
  },
  {
   "cell_type": "code",
   "execution_count": 13,
   "metadata": {
    "scrolled": false
   },
   "outputs": [
    {
     "name": "stderr",
     "output_type": "stream",
     "text": [
      "No handles with labels found to put in legend.\n"
     ]
    },
    {
     "data": {
      "image/png": "[encoded data removed]",
      "text/plain": [
       "<Figure size 720x540 with 1 Axes>"
      ]
     },
     "metadata": {},
     "output_type": "display_data"
    }
   ],
   "source": [
    "### FigureSize\n",
    "\n",
    "fig_size = plt.rcParams[\"figure.figsize\"]\n",
    "fig_size[0] = 10\n",
    "fig_size[1] = 7.5\n",
    "plt.rcParams[\"figure.figsize\"] = fig_size\n",
    "\n",
    "###   Errors / Fit / Plot\n",
    "\n",
    "plt.plot(calib[0][1:],calib[2][1:])\n",
    "plt.plot(calib[0][1:],calib[1][1:])\n",
    "\n",
    "###   Label / Title\n",
    "\n",
    "plt.ylabel(r'Voltage$\\,[\\mathrm{V}]$', fontsize=13)\n",
    "plt.xlabel(r'Time$\\,[\\mathrm{s}]$', fontsize=13)\n",
    "\n",
    "###   Axes / Grid\n",
    "\n",
    "axes = plt.gca()  ##  Searches current Axes\n",
    "\n",
    "#axes.set_xlim([18.97,19.3])\n",
    "#axes.set_ylim([-300,370])\n",
    "\n",
    "#axes.set_yticks([0,10,20,30,40,50,60,70,80,90,100,110])\n",
    "#axes.set_xticks([0.1,0.2,0.3,0.4,0.5,0.6,0.7,0.8])\n",
    "\n",
    "axes.grid(which='major', linestyle='-', linewidth='1', color='black')\n",
    "axes.grid(which='minor', linestyle=':', color='gray')\n",
    "axes.minorticks_on()\n",
    "\n",
    "plt.legend(fontsize=15)\n",
    "#plt.savefig('Eichung.png')\n",
    "plt.show()"
   ]
  },
  {
   "cell_type": "markdown",
   "metadata": {},
   "source": [
    "# Loop Stuff"
   ]
  },
  {
   "cell_type": "code",
   "execution_count": 14,
   "metadata": {},
   "outputs": [],
   "source": [
    "#Widerstand 1\n",
    "#data_1_2_1 = csvReader('r1_2_1_HM1508-2.csv')\n",
    "data_1_5_1 = csvReader('r1_5_1_HM1508-2.csv')\n",
    "data_1_5_2 = csvReader('r1_5_2_HM1508-2.csv')\n",
    "data_1_5_3 = csvReader('r1_5_3_HM1508-2.csv')\n",
    "data_1_5_4 = csvReader('r1_5_4_HM1508-2.csv')\n",
    "data_1_10_1 = csvReader('r1_10_1_HM1508-2.csv')\n",
    "data_1_10_2 = csvReader('r1_10_2_HM1508-2.csv')\n",
    "data_1_10_3 = csvReader('r1_10_3_HM1508-2.csv')\n",
    "data_1_10_4 = csvReader('r1_10_4_HM1508-2.csv')\n",
    "data_1 = [data_1_5_1,data_1_5_2,data_1_5_3,data_1_5_4,data_1_10_1,data_1_10_2,data_1_10_3,data_1_10_4]\n",
    "#WIderstand 2\n",
    "#data_2_2_1 = csvReader('r2_2_1_HM1508-2.csv')\n",
    "#data_2_2_2 = csvReader('r2_2_2_HM1508-2.csv')\n",
    "data_2_5_1 = csvReader('r2_5_1_HM1508-2.csv')\n",
    "data_2_5_2 = csvReader('r2_5_2_HM1508-2.csv')\n",
    "data_2_5_3 = csvReader('r2_5_3_HM1508-2.csv')\n",
    "data_2_5_4 = csvReader('r2_5_4_HM1508-2.csv')\n",
    "data_2_10_1 = csvReader('r2_10_1_HM1508-2.csv')\n",
    "data_2_10_2 = csvReader('r2_10_2_HM1508-2.csv')\n",
    "data_2_10_3 = csvReader('r2_10_3_HM1508-2.csv')\n",
    "data_2 = [data_2_5_1,data_2_5_2,data_2_5_3,data_2_5_4,data_2_10_1,data_2_10_2,data_2_10_3]\n",
    "#WIderstand 3\n",
    "data_3_5_1 = csvReader('r3_5_1_HM1508-2.csv')\n",
    "data_3_5_2 = csvReader('r3_5_2_HM1508-2.csv')\n",
    "data_3_10_1 = csvReader('r3_10_1_HM1508-2.csv')\n",
    "data_3_10_2 = csvReader('r2_10_2_HM1508-2.csv')\n",
    "data_3_10_3 = csvReader('r3_10_3_HM1508-2.csv')\n",
    "data_3 = [data_3_5_1,data_3_5_2,data_3_10_1,data_3_10_2,data_3_10_3]\n",
    "#WIderstand 4\n",
    "data_4_5_1 = csvReader('r4_5_1_HM1508-2.csv')\n",
    "data_4_5_2 = csvReader('r4_5_2_HM1508-2.csv')\n",
    "data_4_10_1 = csvReader('r4_10_1_HM1508-2.csv')\n",
    "data_4_10_2 = csvReader('r4_10_2_HM1508-2.csv')\n",
    "data_4_10_3 = csvReader('r4_10_3_HM1508-2.csv')\n",
    "data_4 = [data_4_5_1,data_4_5_2,data_4_10_1,data_4_10_2,data_4_10_3]\n",
    "#WIderstand 5\n",
    "data_5_5_1 = csvReader('r5_5_1_HM1508-2.csv')\n",
    "data_5_5_2 = csvReader('r5_5_2_HM1508-2.csv')\n",
    "data_5_5_3 = csvReader('r5_5_3_HM1508-2.csv')\n",
    "data_5_10_1 = csvReader('r5_10_1_HM1508-2.csv')\n",
    "data_5_10_2 = csvReader('r5_10_2_HM1508-2.csv')\n",
    "data_5_10_3 = csvReader('r5_10_3_HM1508-2.csv')\n",
    "data_5 = [data_5_5_1,data_5_5_2,data_5_5_3,data_5_10_1,data_5_10_2,data_5_10_3]"
   ]
  },
  {
   "cell_type": "code",
   "execution_count": 15,
   "metadata": {
    "scrolled": false
   },
   "outputs": [],
   "source": [
    "Test1 = (False,False) #Test1[0] ist test option und Test1[1] ist Bilder an aus.\n",
    "r1_5_1 = Squid(data_1[0], [-0.3,0.4,0.5,0], 'r1_5_1', Test1)\n",
    "r1_5_2 = Squid(data_1[1], [-0.3,0.4,0.5,0], 'r1_5_2', Test1)\n",
    "r1_5_3 = Squid(data_1[2], [-0.4,0.2,0.4,0], 'r1_5_3', Test1)\n",
    "r1_5_4 = Squid(data_1[3], [-0.3,0.3,0.4,2], 'r1_5_4', Test1)\n",
    "r1_10_1 = Squid(data_1[4], [-0.3,0.3,0.8,2], 'r1_10_1', Test1,end=1610)\n",
    "r1_10_2 = Squid(data_1[5], [-0.3,0.3,0.8,2], 'r1_10_2', Test1)\n",
    "r1_10_3 = Squid(data_1[6], [-0.3,0.3,0.8,2], 'r1_10_3', Test1)\n",
    "r1_10_4 = Squid(data_1[7], [-0.3,0.3,0.8,2], 'r1_10_4', Test1)"
   ]
  },
  {
   "cell_type": "code",
   "execution_count": 16,
   "metadata": {
    "scrolled": false
   },
   "outputs": [],
   "source": [
    "Test2 = (False,False)\n",
    "r2_5_1 = Squid(data_2[0], [-0.4,0.2,0.4,10], 'r2_5_1', Test2)\n",
    "r2_5_2 = Squid(data_2[1], [-0.4,0.2,0.4,10], 'r2_5_2', Test2)\n",
    "r2_5_3 = Squid(data_2[2], [-0.4,0.2,0.4,10], 'r2_5_3', Test2)\n",
    "r2_5_4 = Squid(data_2[3], [-0.4,0.2,0.4,10], 'r2_5_4', Test2)\n",
    "r2_10_1 = Squid(data_2[4], [0.9,0.2,0.9,2], 'r2_10_1', Test2, start=110)\n",
    "r2_10_2 = Squid(data_2[5], [-0.4,0.2,0.9,10], 'r2_10_2', Test2)\n",
    "r2_10_3 = Squid(data_2[6], [-0.4,0.2,0.8,10], 'r2_10_3', Test2, end=1575)"
   ]
  },
  {
   "cell_type": "code",
   "execution_count": 17,
   "metadata": {
    "scrolled": false
   },
   "outputs": [],
   "source": [
    "Test3 = (False,False)\n",
    "r3_5_1 = Squid(data_3[0], [-0.4,0.2,0.4,10], 'r3_5_1', Test3,end=1055)\n",
    "r3_5_2 = Squid(data_3[1], [-0.4,0.2,0.4,10], 'r3_5_2', Test3, start=11, end=1010)\n",
    "r3_10_1 = Squid(data_3[2], [0.9,0.2,0.9,2], 'r3_10_1', Test3)\n",
    "###r3_10_2 = Squid(data_3[3], [-0.4,0.2,0.9,10], 'r3_10_2', Test3) TOT wahrscheinlich etwas falsch gemacht\n",
    "r3_10_3 = Squid(data_3[4], [-0.4,0.2,0.8,10], 'r3_10_3', Test3,start=320)"
   ]
  },
  {
   "cell_type": "code",
   "execution_count": 18,
   "metadata": {
    "scrolled": false
   },
   "outputs": [],
   "source": [
    "Test4 = (False,False)\n",
    "r4_5_1 = Squid(data_4[0], [-0.4,0.2,0.4,10], 'r4_5_1', Test4)\n",
    "r4_5_2 = Squid(data_4[1], [-0.4,0.2,0.4,10], 'r4_5_2', Test4, end=1270)\n",
    "r4_10_1 = Squid(data_4[2], [0.9,0.2,0.9,2], 'r4_10_1', Test4)\n",
    "r4_10_2 = Squid(data_4[3], [-0.4,0.2,0.9,10], 'r4_10_2', Test4)\n",
    "r4_10_3 = Squid(data_4[4], [-0.4,0.2,0.8,10], 'r4_10_3', Test4, end=1140)"
   ]
  },
  {
   "cell_type": "code",
   "execution_count": 19,
   "metadata": {
    "scrolled": false
   },
   "outputs": [],
   "source": [
    "Test5 = (False,False)\n",
    "###r5_5_1 = Squid(data_5[0], [-0.4,0.2,0.4,10], 'r5_5_1TOT', Test5) Tot\n",
    "r5_5_2 = Squid(data_5[1], [-0.4,0.2,0.4,10], 'r5_5_2', Test5)\n",
    "r5_5_3 = Squid(data_5[2], [-0.4,0.2,0.4,10], 'r5_5_3', Test5)\n",
    "r5_10_1 = Squid(data_5[3], [0.9,0.2,0.9,2], 'r5_10_1', Test5,start=100,end=1400)\n",
    "r5_10_2 = Squid(data_5[4], [-0.4,0.2,0.9,10], 'r5_10_2', Test5,start=400)\n",
    "###r5_10_3 = Squid(data_5[5], [-0.4,0.2,0.8,10], 'r5_10_3TOT', Test5) Tot"
   ]
  },
  {
   "cell_type": "code",
   "execution_count": 20,
   "metadata": {},
   "outputs": [
    {
     "name": "stdout",
     "output_type": "stream",
     "text": [
      "0.2407 \\pm 0.0007\n"
     ]
    }
   ],
   "source": [
    "#Spannung DeltaV Loop 1\n",
    "#print(r1_5_1[0][1],'\\n',r1_5_2[0][1],'\\n',r1_5_3[0][1],'\\n',r1_5_4[0][1],'\\n',r1_10_1[0][1],'\\n',r1_10_2[0][1],'\\n',r1_10_3[0][1],'\\n',r1_10_4[0][1])\n",
    "ULoop_1 = [r1_5_1[0][1],r1_5_2[0][1],r1_5_3[0][1],r1_5_4[0][1],abs(r1_10_1[0][1]),abs(r1_10_2[0][1]),r1_10_3[0][1],r1_10_4[0][1]]\n",
    "V_1 = gmean(ULoop_1, uncertainties=True)\n",
    "print('{:L}'.format(gmean(ULoop_1, uncertainties=True)))"
   ]
  },
  {
   "cell_type": "code",
   "execution_count": 21,
   "metadata": {},
   "outputs": [
    {
     "name": "stdout",
     "output_type": "stream",
     "text": [
      "0.1298 \\pm 0.0007\n"
     ]
    }
   ],
   "source": [
    "#Spannung DeltaV Loop 2\n",
    "#print(r2_5_1[0][1],'\\n',r2_5_2[0][1],'\\n',r2_5_3[0][1],'\\n',r2_5_4[0][1],'\\n',r2_10_1[0][1],'\\n',r2_10_2[0][1],'\\n',r2_10_3[0][1])\n",
    "ULoop_2 = [r2_5_1[0][1],r2_5_2[0][1],abs(r2_5_3[0][1]),abs(r2_5_4[0][1]),abs(r2_10_1[0][1]),abs(r2_10_2[0][1]),abs(r2_10_3[0][1])]\n",
    "V_2 = gmean(ULoop_2, uncertainties=True)\n",
    "print('{:L}'.format(gmean(ULoop_2, uncertainties=True)))"
   ]
  },
  {
   "cell_type": "code",
   "execution_count": 22,
   "metadata": {},
   "outputs": [
    {
     "name": "stdout",
     "output_type": "stream",
     "text": [
      "0.0426 \\pm 0.0008\n"
     ]
    }
   ],
   "source": [
    "#Spannung DeltaV Loop 3\n",
    "#print(r3_5_1[0][1],'\\n',r3_5_2[0][1],'\\n',r3_10_1[0][1],'\\n',r3_10_3[0][1])\n",
    "ULoop_3 = [r3_5_1[0][1],r3_5_2[0][1],abs(r3_10_1[0][1]),abs(r3_10_3[0][1])]\n",
    "V_3 = gmean(ULoop_3, uncertainties=True)\n",
    "print('{:L}'.format(gmean(ULoop_3, uncertainties=True)))"
   ]
  },
  {
   "cell_type": "code",
   "execution_count": 23,
   "metadata": {},
   "outputs": [
    {
     "name": "stdout",
     "output_type": "stream",
     "text": [
      "0.0259 \\pm 0.0005\n"
     ]
    }
   ],
   "source": [
    "#Spannung DeltaV Loop 4\n",
    "#print(r4_5_1[0][1],'\\n',r4_5_2[0][1],'\\n',r4_10_1[0][1],'\\n',r4_10_2[0][1],'\\n',r4_10_3[0][1])\n",
    "ULoop_4 = [abs(r4_5_1[0][1]),abs(r4_5_2[0][1]),abs(r4_10_1[0][1]),abs(r4_10_2[0][1]),abs(r4_10_3[0][1])]\n",
    "V_4 = gmean(ULoop_4, uncertainties=True)\n",
    "print('{:L}'.format(gmean(ULoop_4, uncertainties=True)))"
   ]
  },
  {
   "cell_type": "code",
   "execution_count": 24,
   "metadata": {},
   "outputs": [
    {
     "name": "stdout",
     "output_type": "stream",
     "text": [
      "0.0150 \\pm 0.0006\n"
     ]
    }
   ],
   "source": [
    "#Spannung DeltaV Loop 5\n",
    "#print(r5_5_2[0][1],'\\n',r5_5_3[0][1],'\\n',r5_10_1[0][1],'\\n',r5_10_2[0][1])\n",
    "ULoop_5 = [abs(r5_5_2[0][1]),abs(r5_10_1[0][1]),abs(r5_10_2[0][1])]\n",
    "V_5 = gmean(ULoop_5, uncertainties=True)\n",
    "print('{:L}'.format(gmean(ULoop_5, uncertainties=True)))"
   ]
  },
  {
   "cell_type": "code",
   "execution_count": 25,
   "metadata": {},
   "outputs": [
    {
     "name": "stdout",
     "output_type": "stream",
     "text": [
      "\\left(2.356 \\pm 0.007\\right) \\times 10^{-9} \n",
      " \\left(1.271 \\pm 0.007\\right) \\times 10^{-9} \n",
      " \\left(4.17 \\pm 0.08\\right) \\times 10^{-10} \n",
      " \\left(2.54 \\pm 0.05\\right) \\times 10^{-10} \n",
      " \\left(1.47 \\pm 0.06\\right) \\times 10^{-10} \n",
      "\n"
     ]
    }
   ],
   "source": [
    "#B_z-Feld\n",
    "F = 9.3*10**-9 #T/Phi\n",
    "s_i = 950*10**-3 #V/Phi\n",
    "Bz_1 = (F * V_1) / s_i\n",
    "Bz_2 = (F * V_2) / s_i\n",
    "Bz_3 = (F * V_3) / s_i\n",
    "Bz_4 = (F * V_4) / s_i\n",
    "Bz_5 = (F * V_5) / s_i\n",
    "print('{:L}'.format(Bz_1),'\\n','{:L}'.format(Bz_2),'\\n','{:L}'.format(Bz_3),'\\n','{:L}'.format(Bz_4),'\\n','{:L}'.format(Bz_5),'\\n')"
   ]
  },
  {
   "cell_type": "code",
   "execution_count": 26,
   "metadata": {},
   "outputs": [
    {
     "name": "stdout",
     "output_type": "stream",
     "text": [
      "\\left(2.19 \\pm 0.29\\right) \\times 10^{-7} \n",
      " \\left(1.18 \\pm 0.15\\right) \\times 10^{-7} \n",
      " \\left(3.9 \\pm 0.5\\right) \\times 10^{-8} \n",
      " \\left(2.36 \\pm 0.31\\right) \\times 10^{-8} \n",
      " \\left(1.37 \\pm 0.19\\right) \\times 10^{-8} \n",
      "\n"
     ]
    }
   ],
   "source": [
    "#Dipolmoment \n",
    "µ0 = 1.25667062*10**-6\n",
    "d_sp_SI =  d_sp * 10**-2\n",
    "p_1 = (Bz_1 * (d_sp_SI)**3 * 2 * pi) / (µ0)\n",
    "p_2 = (Bz_2 * (d_sp_SI)**3 * 2 * pi) / (µ0)\n",
    "p_3 = (Bz_3 * (d_sp_SI)**3 * 2 * pi) / (µ0)\n",
    "p_4 = (Bz_4 * (d_sp_SI)**3 * 2 * pi) / (µ0)\n",
    "p_5 = (Bz_5 * (d_sp_SI)**3 * 2 * pi) / (µ0)\n",
    "print('{:L}'.format(p_1),'\\n','{:L}'.format(p_2),'\\n','{:L}'.format(p_3),'\\n','{:L}'.format(p_4),'\\n','{:L}'.format(p_5),'\\n')"
   ]
  },
  {
   "cell_type": "code",
   "execution_count": 27,
   "metadata": {},
   "outputs": [
    {
     "name": "stdout",
     "output_type": "stream",
     "text": [
      "\\left(8.75 \\pm 0.11\\right) \\times 10^{-7} \n",
      " \\left(4.47 \\pm 0.06\\right) \\times 10^{-7} \n",
      " \\left(1.498 \\pm 0.020\\right) \\times 10^{-7} \n",
      " \\left(8.82 \\pm 0.12\\right) \\times 10^{-8} \n",
      " \\left(4.51 \\pm 0.06\\right) \\times 10^{-8} \n",
      "\n"
     ]
    }
   ],
   "source": [
    "#Dipolmoment 2\n",
    "vier = 1\n",
    "r_Loop_SI = r_Loop*10**-3\n",
    "p = (2 * pi * (r_Loop_SI)**2 * U_B) / (vier*R_S)\n",
    "print('{:L}'.format(p[0][0]),'\\n','{:L}'.format(p[0][1]),'\\n','{:L}'.format(p[0][2]),'\\n','{:L}'.format(p[0][3]),'\\n','{:L}'.format(p[0][4]),'\\n')"
   ]
  },
  {
   "cell_type": "code",
   "execution_count": 28,
   "metadata": {},
   "outputs": [
    {
     "name": "stdout",
     "output_type": "stream",
     "text": [
      "\\left(9.4 \\pm 1.2\\right) \\times 10^{-9}\n",
      "\\left(4.8 \\pm 0.6\\right) \\times 10^{-9}\n",
      "\\left(1.61 \\pm 0.21\\right) \\times 10^{-9}\n",
      "\\left(9.5 \\pm 1.2\\right) \\times 10^{-10}\n",
      "\\left(4.8 \\pm 0.6\\right) \\times 10^{-10}\n"
     ]
    }
   ],
   "source": [
    "#B_z-Feld 2\n",
    "\n",
    "Bz = (µ0 * p) / ((d_sp_SI)**3 * 2 * pi)\n",
    "for i in range(len(Bz[0])):\n",
    "    print('{:L}'.format((Bz[0][i])))"
   ]
  },
  {
   "cell_type": "code",
   "execution_count": 29,
   "metadata": {},
   "outputs": [
    {
     "name": "stdout",
     "output_type": "stream",
     "text": [
      "-38.22543024101681 \n",
      " -34.26320264248762 \n",
      " -35.13807678081069 \n",
      " -32.88988471754997 \n",
      " -24.39982346452998\n"
     ]
    }
   ],
   "source": [
    "#Vergleich Dipol\n",
    "t_1 = (p[0][0].nominal_value-p_1.nominal_value)/(p[0][0].std_dev-p_1.std_dev)\n",
    "t_2 = (p[0][1].nominal_value-p_2.nominal_value)/(p[0][1].std_dev-p_2.std_dev)\n",
    "t_3 = (p[0][2].nominal_value-p_3.nominal_value)/(p[0][2].std_dev-p_3.std_dev)\n",
    "t_4 = (p[0][3].nominal_value-p_4.nominal_value)/(p[0][3].std_dev-p_4.std_dev)\n",
    "t_5 = (p[0][4].nominal_value-p_5.nominal_value)/(p[0][4].std_dev-p_5.std_dev)\n",
    "print(t_1,'\\n',t_2,'\\n',t_3,'\\n',t_4,'\\n',t_5)"
   ]
  },
  {
   "cell_type": "code",
   "execution_count": 30,
   "metadata": {
    "scrolled": true
   },
   "outputs": [
    {
     "data": {
      "text/plain": [
       "-0.42570908027286675"
      ]
     },
     "execution_count": 30,
     "metadata": {},
     "output_type": "execute_result"
    }
   ],
   "source": [
    "x_test = arange(0,100,0.1)\n",
    "r2_5_1[0][0].nominal_value\n",
    "#plt.plot(x_test, p0[0] + p0[1] * sin(p0[2] * x_test + p0[3]),label='test')"
   ]
  },
  {
   "cell_type": "markdown",
   "metadata": {},
   "source": [
    "# Polardarstellung"
   ]
  },
  {
   "cell_type": "code",
   "execution_count": 31,
   "metadata": {},
   "outputs": [],
   "source": [
    "def sinus(x,b,c,d):\n",
    "    return b*sin(x*c+d)"
   ]
  },
  {
   "cell_type": "code",
   "execution_count": 32,
   "metadata": {},
   "outputs": [],
   "source": [
    "def Polar(x,p0,Titel=None, start=1, end=None, Test=None):\n",
    "    F = 9.3*10**-9 #T/Phi\n",
    "    s_i = 950*10**-3 #V/Phi\n",
    "    \n",
    "    fig_size = plt.rcParams[\"figure.figsize\"]\n",
    "    fig_size[0] = 10\n",
    "    fig_size[1] = 7.5\n",
    "    plt.rcParams[\"figure.figsize\"] = fig_size\n",
    "    \n",
    "    #Only Partly Needed für c und d\n",
    "    \n",
    "    xnew = arange(0,100,0.01)\n",
    "    p = Squidfit_pm(x[0][1:],x[1][1:],p0)\n",
    "    b = p[0][1].nominal_value\n",
    "    c = p[0][2].nominal_value\n",
    "    d = p[0][3].nominal_value\n",
    "    ynew = sinus(xnew,b,c,d)\n",
    "    for i in range((len(ynew))):\n",
    "        if ynew[i] > 0 and ynew[i+1] < 0:\n",
    "            if abs(ynew[i]) < abs(ynew[i+1]):\n",
    "                minimum = ynew[i]  #mim´nimum enstpricht nullstelle\n",
    "            else:\n",
    "                minimum = ynew[i+1]\n",
    "            break\n",
    "        else:\n",
    "            None\n",
    "    print(minimum)\n",
    "    k1 = np.where(ynew == minimum)\n",
    "    k1 = k1[0][0]+1\n",
    "    print(k1)\n",
    "    xnew = xnew[k1:]\n",
    "    ynew = ynew[k1:]\n",
    "    for i in range((len(ynew))):\n",
    "        if ynew[i] > 0 and ynew[i+1] < 0:\n",
    "            if abs(ynew[i]) < abs(ynew[i+1]):\n",
    "                minimum = ynew[i]\n",
    "            else:\n",
    "                minimum = ynew[i+1]\n",
    "            break\n",
    "        else:\n",
    "            None\n",
    "    k1 = np.where(ynew == minimum)\n",
    "    k1 = k1[0][0]\n",
    "    print(k1)\n",
    "    xnew = xnew[:k1]\n",
    "    ynew = ynew[:k1]\n",
    "    \n",
    "    \n",
    "    # Eingetliche Funktion\n",
    "    Bz = np.array(x[1][start:end]) * (F/s_i)\n",
    "    angle = c * np.array(x[0][start:end]) - d\n",
    "    Polx = abs(Bz*10**9)*cos(angle)\n",
    "    Poly = abs(Bz*10**9)*sin(angle)\n",
    "    plt.plot(Polx,Poly,label='Data Points in Polar Representation')\n",
    "\n",
    "\n",
    "    ###   Label / Title\n",
    "\n",
    "    plt.ylabel(r'Bz $\\,[\\mathrm{nT}]$', fontsize=13)\n",
    "    plt.xlabel(r'Bz $\\,[\\mathrm{nT}]$', fontsize=13)\n",
    "    #plt.title('Polar Representation', fontsize=20)\n",
    "\n",
    "    ###   Axes / Grid\n",
    "\n",
    "    axes = plt.gca()  ##  Searches current Axes\n",
    "\n",
    "    #axes.set_xlim([18.97,19.3])\n",
    "    #axes.set_ylim([-300,370])\n",
    "\n",
    "    #axes.set_yticks([0,10,20,30,40,50,60,70,80,90,100,110])\n",
    "    #axes.set_xticks([0.1,0.2,0.3,0.4,0.5,0.6,0.7,0.8])\n",
    "\n",
    "    axes.grid(which='major', linestyle='-', linewidth='1', color='black')\n",
    "    axes.grid(which='minor', linestyle=':', color='gray')\n",
    "    axes.minorticks_on()\n",
    "\n",
    "    plt.legend(fontsize=15)\n",
    "    plt.savefig(Titel)\n",
    "    plt.show()"
   ]
  },
  {
   "cell_type": "markdown",
   "metadata": {},
   "source": [
    "# Andere Proben"
   ]
  },
  {
   "cell_type": "code",
   "execution_count": 33,
   "metadata": {},
   "outputs": [],
   "source": [
    "#Probe 1\n",
    "data_P1_1 = csvReader('probe1_10_1_HM1508-2.csv')\n",
    "data_P1_2 = csvReader('probe1_10_2_HM1508-2.csv')\n",
    "data_P1_3 = csvReader('probe1_10_3_HM1508-2.csv')\n",
    "data_P1_4 = csvReader('probe1_10_4_HM1508-2.csv')\n",
    "#Probe 2\n",
    "data_P2_1 = csvReader('probe2_10_1_HM1508-2.csv')\n",
    "data_P2_2 = csvReader('probe2_10_2_HM1508-2.csv')\n",
    "#Probe 3\n",
    "data_P3_1 = csvReader('probe3_10_1_HM1508-2.csv')\n",
    "data_P3_2 = csvReader('probe3_10_2_HM1508-2.csv')\n",
    "data_P3_3 = csvReader('probe3_10_3_HM1508-2.csv')\n",
    "data_P3_4 = csvReader('probe3_10_4_HM1508-2.csv')\n",
    "#Probe 4\n",
    "data_P4_1 = csvReader('probe4_10_1_HM1508-2.csv')\n",
    "data_P4_2 = csvReader('probe4_10_2_HM1508-2.csv')\n",
    "data_P4_3 = csvReader('probe4_10_3_HM1508-2.csv')\n",
    "data_P4_4 = csvReader('probe4_10_4_HM1508-2.csv')\n",
    "#Probe 5\n",
    "data_P5_1 = csvReader('probe5_10_1_HM1508-2.csv')\n",
    "data_P5_2 = csvReader('probe5_10_2_HM1508-2.csv')\n",
    "data_P5_3 = csvReader('probe5_10_3_HM1508-2.csv')\n",
    "data_P5_4 = csvReader('probe5_10_4_HM1508-2.csv')\n",
    "data_P5_5 = csvReader('probe5_10_5_HM1508-2.csv')"
   ]
  },
  {
   "cell_type": "code",
   "execution_count": 34,
   "metadata": {
    "scrolled": true
   },
   "outputs": [],
   "source": [
    "Test6 = (False,False) #Test1[0] ist test option und Test1[1] ist Bilder an aus.\n",
    "data_P1_1_pm = Squid(data_P1_1, [-0.3,0.1,0.9,0], 'P1_1', Test6)\n",
    "data_P1_2_pm = Squid(data_P1_2, [-0.3,0.4,0.9,0], 'P1_2', Test6)\n",
    "data_P1_3_pm = Squid(data_P1_3, [-0.4,0.2,0.9,0], 'P1_3', Test6)\n",
    "data_P1_4_pm = Squid(data_P1_4, [-0.4,0.2,0.9,0], 'P1_4', Test6)"
   ]
  },
  {
   "cell_type": "code",
   "execution_count": 35,
   "metadata": {
    "scrolled": true
   },
   "outputs": [],
   "source": [
    "Test7 = (False,False) #Test1[0] ist test option und Test1[1] ist Bilder an aus.\n",
    "data_P2_1_pm = Squid(data_P2_1, [-0.3,0.4,0.8,0], 'P2_1', Test7)\n",
    "data_P2_2_pm = Squid(data_P2_2, [-0.3,0.4,0.8,0], 'P2_2', Test7,end=990)"
   ]
  },
  {
   "cell_type": "code",
   "execution_count": 36,
   "metadata": {},
   "outputs": [],
   "source": [
    "Test8 = (False,False) #Test1[0] ist test option und Test1[1] ist Bilder an aus.\n",
    "data_P3_1_pm = Squid(data_P3_1, [-0.3,0.4,0.5,0], 'P3_1', Test8)\n",
    "data_P3_2_pm = Squid(data_P3_2, [-0.3,0.4,0.5,0], 'P3_2', Test8)\n",
    "data_P3_3_pm = Squid(data_P3_3, [-0.4,5,0.9,0], 'P3_3', Test8)\n",
    "data_P3_4_pm = Squid(data_P3_4, [-0.4,5,0.9,0], 'P3_4', Test8)"
   ]
  },
  {
   "cell_type": "code",
   "execution_count": 44,
   "metadata": {
    "scrolled": true
   },
   "outputs": [],
   "source": [
    "Test9 = (False,False) #Test1[0] ist test option und Test1[1] ist Bilder an aus.\n",
    "data_P4_1_pm = Squid(data_P4_1, [0,0.005,1.8,0], 'P4_1', Test9,start=200)\n",
    "data_P4_2_pm = Squid(data_P4_2, [0,0.005,1.8,0], 'P4_2', Test9)\n",
    "data_P4_3_pm = Squid(data_P4_3, [0,0.05,1.8,0], 'P4_3', Test9)\n",
    "###data_P4_4_pm = Squid(data_P4_4, [0,0.05,0.8,0], 'P4_4', Test9)"
   ]
  },
  {
   "cell_type": "code",
   "execution_count": 45,
   "metadata": {},
   "outputs": [],
   "source": [
    "Test10 = (False,False) #Test1[0] ist test option und Test1[1] ist Bilder an aus.\n",
    "data_P5_1_pm = Squid(data_P5_1, [-5,10,1,0], 'P5_1', Test10)\n",
    "data_P5_2_pm = Squid(data_P5_2, [-5,10,1,0], 'P5_2', Test10)\n",
    "data_P5_3_pm = Squid(data_P5_3, [-5,10,0.9,0], 'P5_3', Test10)\n",
    "data_P5_4_pm = Squid(data_P5_4, [-5,9,0.8,0], 'P5_4', Test10)\n",
    "data_P5_5_pm = Squid(data_P5_5, [-5,10,0.9,0], '5_5', Test10)"
   ]
  },
  {
   "cell_type": "code",
   "execution_count": 46,
   "metadata": {},
   "outputs": [
    {
     "name": "stdout",
     "output_type": "stream",
     "text": [
      "0.0202 \\pm 0.0007\n"
     ]
    }
   ],
   "source": [
    "#Probe 1 SPannung\n",
    "#print(data_P1_1_pm[0][1],'\\n',data_P1_2_pm[0][1],'\\n',data_P1_3_pm[0][1],'\\n',data_P1_4_pm[0][1])\n",
    "UProbe_1 = [abs(data_P1_1_pm[0][1]),abs(data_P1_2_pm[0][1]),abs(data_P1_3_pm[0][1]),abs(data_P1_4_pm[0][1])]\n",
    "PV_1 = gmean(UProbe_1, uncertainties=True)\n",
    "print('{:L}'.format(gmean(UProbe_1, uncertainties=True)))"
   ]
  },
  {
   "cell_type": "code",
   "execution_count": 47,
   "metadata": {},
   "outputs": [
    {
     "name": "stdout",
     "output_type": "stream",
     "text": [
      "0.0349 \\pm 0.0012\n"
     ]
    }
   ],
   "source": [
    "#Probe 2 SPannung\n",
    "#print(data_P2_1_pm[0][1],'\\n',data_P2_2_pm[0][1])\n",
    "UProbe_2 = [abs(data_P2_1_pm[0][1]),abs(data_P2_2_pm[0][1])]\n",
    "PV_2 = gmean(UProbe_2, uncertainties=True)\n",
    "print('{:L}'.format(gmean(UProbe_2, uncertainties=True)))"
   ]
  },
  {
   "cell_type": "code",
   "execution_count": 48,
   "metadata": {},
   "outputs": [
    {
     "name": "stdout",
     "output_type": "stream",
     "text": [
      "8.589 \\pm 0.031\n"
     ]
    }
   ],
   "source": [
    "#Probe 3 SPannung\n",
    "#print(data_P3_1_pm[0][1],'\\n',data_P3_2_pm[0][1],'\\n',data_P3_3_pm[0][1],'\\n',data_P3_4_pm[0][1])\n",
    "UProbe_3 = [abs(data_P3_1_pm[0][1]),abs(data_P3_2_pm[0][1]),abs(data_P3_3_pm[0][1]),abs(data_P3_4_pm[0][1])]\n",
    "PV_3 = gmean(UProbe_3, uncertainties=True)\n",
    "print('{:L}'.format(gmean(UProbe_3, uncertainties=True)))"
   ]
  },
  {
   "cell_type": "code",
   "execution_count": 53,
   "metadata": {},
   "outputs": [
    {
     "name": "stdout",
     "output_type": "stream",
     "text": [
      "0.00081 \\pm 0.00005\n"
     ]
    }
   ],
   "source": [
    "#Probe 4 SPannung\n",
    "#print(data_P4_1_pm[0][1],'\\n',data_P4_2_pm[0][1],'\\n',data_P4_3_pm[0][1])\n",
    "UProbe_4 = [abs(data_P4_1_pm[0][1]),abs(data_P4_2_pm[0][1]),abs(data_P4_3_pm[0][1])]\n",
    "PV_4 = gmean(UProbe_4, uncertainties=True)\n",
    "print('{:L}'.format(gmean(UProbe_4, uncertainties=True)))"
   ]
  },
  {
   "cell_type": "code",
   "execution_count": 54,
   "metadata": {},
   "outputs": [
    {
     "name": "stdout",
     "output_type": "stream",
     "text": [
      "6.355 \\pm 0.031\n"
     ]
    }
   ],
   "source": [
    "#Probe 5 SPannung\n",
    "#print(data_P5_2_pm[0][1],'\\n',data_P5_3_pm[0][1],'\\n',data_P5_4_pm[0][1],'\\n',data_P5_5_pm[0][1])\n",
    "UProbe_5 = [abs(data_P5_2_pm[0][1]),abs(data_P5_3_pm[0][1]),abs(data_P5_4_pm[0][1]),abs(data_P5_5_pm[0][1])]\n",
    "PV_5 = gmean(UProbe_5, uncertainties=True)\n",
    "print('{:L}'.format(gmean(UProbe_5, uncertainties=True)))"
   ]
  },
  {
   "cell_type": "code",
   "execution_count": 55,
   "metadata": {},
   "outputs": [
    {
     "name": "stdout",
     "output_type": "stream",
     "text": [
      "\\left(1.98 \\pm 0.07\\right) \\times 10^{-10} \n",
      " \\left(3.42 \\pm 0.12\\right) \\times 10^{-10} \n",
      " \\left(8.408 \\pm 0.030\\right) \\times 10^{-8} \n",
      " \\left(7.9 \\pm 0.5\\right) \\times 10^{-12} \n",
      " \\left(2.814 \\pm 0.014\\right) \\times 10^{-6} \n",
      "\n"
     ]
    }
   ],
   "source": [
    "#B_z-Feld Proben\n",
    "F = 9.3*10**-9 #T/Phi\n",
    "s_i = 950*10**-3 #V/Phi\n",
    "s_i2 = 21*10**-3 #V/Phi\n",
    "PBz_1 = (F * PV_1) / s_i\n",
    "PBz_2 = (F * PV_2) / s_i\n",
    "PBz_3 = (F * PV_3) / s_i\n",
    "PBz_4 = (F * PV_4) / s_i\n",
    "PBz_5 = (F * PV_5) / s_i2\n",
    "print('{:L}'.format(PBz_1),'\\n','{:L}'.format(PBz_2),'\\n','{:L}'.format(PBz_3),'\\n','{:L}'.format(PBz_4),'\\n','{:L}'.format(PBz_5),'\\n')"
   ]
  },
  {
   "cell_type": "code",
   "execution_count": 56,
   "metadata": {},
   "outputs": [
    {
     "name": "stdout",
     "output_type": "stream",
     "text": [
      "\\left(1.84 \\pm 0.25\\right) \\times 10^{-8} \n",
      " \\left(3.2 \\pm 0.4\\right) \\times 10^{-8} \n",
      " \\left(7.8 \\pm 1.0\\right) \\times 10^{-6} \n",
      " \\left(7.4 \\pm 1.1\\right) \\times 10^{-10} \n",
      " 0.000262 \\pm 0.000034 \n",
      "\n"
     ]
    }
   ],
   "source": [
    "#Dipolmoment Proben\n",
    "µ0 = 1.25667062*10**-6\n",
    "d_sp_SI =  d_sp * 10**-2\n",
    "Pp_1 = (PBz_1 * (d_sp_SI)**3 * 2 * pi) / (µ0)\n",
    "Pp_2 = (PBz_2 * (d_sp_SI)**3 * 2 * pi) / (µ0)\n",
    "Pp_3 = (PBz_3 * (d_sp_SI)**3 * 2 * pi) / (µ0)\n",
    "Pp_4 = (PBz_4 * (d_sp_SI)**3 * 2 * pi) / (µ0)\n",
    "Pp_5 = (PBz_5 * (d_sp_SI)**3 * 2 * pi) / (µ0)\n",
    "print('{:L}'.format(Pp_1),'\\n','{:L}'.format(Pp_2),'\\n','{:L}'.format(Pp_3),'\\n','{:L}'.format(Pp_4),'\\n','{:L}'.format(Pp_5),'\\n')"
   ]
  },
  {
   "cell_type": "code",
   "execution_count": null,
   "metadata": {},
   "outputs": [],
   "source": []
  },
  {
   "cell_type": "code",
   "execution_count": null,
   "metadata": {},
   "outputs": [],
   "source": []
  },
  {
   "cell_type": "code",
   "execution_count": null,
   "metadata": {},
   "outputs": [],
   "source": []
  }
 ],
 "metadata": {
  "kernelspec": {
   "display_name": "Python 3",
   "language": "python",
   "name": "python3"
  },
  "language_info": {
   "codemirror_mode": {
    "name": "ipython",
    "version": 3
   },
   "file_extension": ".py",
   "mimetype": "text/x-python",
   "name": "python",
   "nbconvert_exporter": "python",
   "pygments_lexer": "ipython3",
   "version": "3.6.4"
  }
 },
 "nbformat": 4,
 "nbformat_minor": 2
}
