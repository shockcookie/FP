{
 "cells": [
  {
   "cell_type": "code",
   "execution_count": 192,
   "metadata": {},
   "outputs": [
    {
     "name": "stdout",
     "output_type": "stream",
     "text": [
      "Populating the interactive namespace from numpy and matplotlib\n"
     ]
    },
    {
     "name": "stderr",
     "output_type": "stream",
     "text": [
      "C:\\Anaconda\\lib\\site-packages\\IPython\\core\\magics\\pylab.py:160: UserWarning: pylab import has clobbered these variables: ['split', 'mean']\n",
      "`%matplotlib` prevents importing * from pylab and numpy\n",
      "  \"\\n`%matplotlib` prevents importing * from pylab and numpy\"\n"
     ]
    }
   ],
   "source": [
    "%pylab inline\n",
    "import ThonkTools as TT\n",
    "from uncertainties import unumpy as unp\n",
    "from uncertainties import ufloat\n",
    "from scipy import interpolate\n",
    "from scipy.optimize import curve_fit"
   ]
  },
  {
   "cell_type": "code",
   "execution_count": 247,
   "metadata": {},
   "outputs": [],
   "source": [
    "ux = unp.uarray([2.22,1.92,3.45,3.77],[0.1])\n",
    "x = np.array([2.22,1.92,3.45,3.77])\n",
    "uy = np.array([7,6,10,11])\n",
    "ux1 = unp.uarray([2.29,3.97,2.84,2.55,1.82],[0.1])\n",
    "x1 = np.array([2.29,3.97,2.84,2.55,1.82])\n",
    "y1 = np.array([9,15,11,10,7])"
   ]
  },
  {
   "cell_type": "code",
   "execution_count": 248,
   "metadata": {},
   "outputs": [],
   "source": [
    "def mean(arr):\n",
    "    return sum(arr) / len(arr)\n",
    "\n",
    "\n",
    "def wmean(arr, err):\n",
    "    if err != None:\n",
    "        return [sum(arr * err) / sum(err), 1 / sqrt(sum(err))]\n",
    "    else:\n",
    "        from uncertainties import ufloat\n",
    "        return ufloat(sum(arr.n * arr.s) / sum(arr.s), 1 / sqrt(sum(arr.s)))\n",
    "\n",
    "\n",
    "def meandev(arr, uncertainties=False):\n",
    "    if uncertainties == True:\n",
    "        arr = arr.nominal_values()\n",
    "    m = mean(arr)\n",
    "    return sqrt((1 / (len(arr) - 1)) * sum((arr - m) ** 2)) / sqrt(len(arr))\n",
    "\n",
    "\n",
    "def nmean(arr, uncertainties=False):\n",
    "    from uncertainties import ufloat\n",
    "    if uncertainties == True:\n",
    "        arr = arr.nominal_value()\n",
    "    return ufloat(mean(arr), meandev(arr))"
   ]
  },
  {
   "cell_type": "code",
   "execution_count": 249,
   "metadata": {},
   "outputs": [],
   "source": [
    "m = x/y\n",
    "um = ux/y"
   ]
  },
  {
   "cell_type": "code",
   "execution_count": 250,
   "metadata": {
    "scrolled": true
   },
   "outputs": [
    {
     "name": "stdout",
     "output_type": "stream",
     "text": [
      "0.278 \\pm 0.013\n",
      "0.274 \\pm 0.014\n",
      "0.314 \\pm 0.009\n",
      "0.314 \\pm 0.008\n"
     ]
    }
   ],
   "source": [
    "for i in range(len(um)):\n",
    "    print('{:L}'.format(um[i]))"
   ]
  },
  {
   "cell_type": "code",
   "execution_count": 251,
   "metadata": {},
   "outputs": [],
   "source": [
    "def split(x):\n",
    "    xer = []\n",
    "    xva = []\n",
    "    for i in range(len(x)):\n",
    "        xer.append(x[i].std_dev)\n",
    "        xva.append(x[i].nominal_value)\n",
    "    return xva, xer"
   ]
  },
  {
   "cell_type": "code",
   "execution_count": 252,
   "metadata": {},
   "outputs": [],
   "source": [
    "m1 = x1/y1\n",
    "um1 = ux1/y1"
   ]
  },
  {
   "cell_type": "code",
   "execution_count": 253,
   "metadata": {},
   "outputs": [
    {
     "name": "stdout",
     "output_type": "stream",
     "text": [
      "0.254 \\pm 0.011\n",
      "0.265 \\pm 0.007\n",
      "0.258 \\pm 0.009\n",
      "0.255 \\pm 0.010\n",
      "0.260 \\pm 0.014\n"
     ]
    }
   ],
   "source": [
    "for i in range(len(um1)):\n",
    "    print('{:L}'.format(um1[i]))"
   ]
  },
  {
   "cell_type": "code",
   "execution_count": 254,
   "metadata": {},
   "outputs": [
    {
     "name": "stdout",
     "output_type": "stream",
     "text": [
      "0.2759+/-0.0016\n",
      "0.2585+/-0.0019\n"
     ]
    }
   ],
   "source": [
    "x = np.concatenate((m,m1))#print(nmean((m+m1)))\n",
    "print(nmean(m[:2]))\n",
    "print(nmean(m1))"
   ]
  },
  {
   "cell_type": "code",
   "execution_count": 255,
   "metadata": {},
   "outputs": [],
   "source": [
    "def gmean(x,ux):\n",
    "    l = []\n",
    "    for i in range(len(x)):\n",
    "        g = 1/ux[i]**2\n",
    "        k = g*x[i]\n",
    "        l.append(k)\n",
    "    g = 1/ux[i]**2\n",
    "    return sum(l)/sum(g)\n",
    "def g2mean(x,ux):\n",
    "    g = 1/np.array(ux)**2\n",
    "    k = g*x\n",
    "    value = sum(k)/sum(g)\n",
    "    error = 1/np.sqrt(sum(g))\n",
    "    return value, error"
   ]
  },
  {
   "cell_type": "code",
   "execution_count": 256,
   "metadata": {},
   "outputs": [
    {
     "name": "stdout",
     "output_type": "stream",
     "text": [
      "[0.2775, 0.2742857142857143, 0.31363636363636366, 0.31416666666666665] [0.0125, 0.014285714285714285, 0.009090909090909092, 0.008333333333333333]\n"
     ]
    }
   ],
   "source": [
    "mv,me = split(um)\n",
    "print(mv,me)\n",
    "m1v,m1e = split(um1)"
   ]
  },
  {
   "cell_type": "code",
   "execution_count": 257,
   "metadata": {},
   "outputs": [
    {
     "name": "stdout",
     "output_type": "stream",
     "text": [
      "(0.25979166666666675, 0.0041666666666666675)\n"
     ]
    }
   ],
   "source": [
    "print(g2mean(m1v,m1e))"
   ]
  },
  {
   "cell_type": "code",
   "execution_count": 171,
   "metadata": {},
   "outputs": [
    {
     "name": "stdout",
     "output_type": "stream",
     "text": [
      "[4 6]\n"
     ]
    },
    {
     "data": {
      "text/plain": [
       "4"
      ]
     },
     "execution_count": 171,
     "metadata": {},
     "output_type": "execute_result"
    }
   ],
   "source": [
    "l = np.array([1,2])\n",
    "l2 = np.array([3,4])\n",
    "print(l+l2)\n",
    "sum([2,2])"
   ]
  },
  {
   "cell_type": "code",
   "execution_count": 162,
   "metadata": {},
   "outputs": [],
   "source": [
    "def vgl(x,y,ux):\n",
    "    return abs(x-y)/ux"
   ]
  },
  {
   "cell_type": "code",
   "execution_count": 163,
   "metadata": {},
   "outputs": [
    {
     "data": {
      "text/plain": [
       "4.4909090909090885"
      ]
     },
     "execution_count": 163,
     "metadata": {},
     "output_type": "execute_result"
    }
   ],
   "source": [
    "vgl(0.295,0.2456,0.011)"
   ]
  },
  {
   "cell_type": "code",
   "execution_count": 166,
   "metadata": {},
   "outputs": [
    {
     "data": {
      "text/plain": [
       "6.789473684210524"
      ]
     },
     "execution_count": 166,
     "metadata": {},
     "output_type": "execute_result"
    }
   ],
   "source": [
    "vgl(0.2585,0.2456,0.0019)"
   ]
  }
 ],
 "metadata": {
  "kernelspec": {
   "display_name": "Python 3",
   "language": "python",
   "name": "python3"
  },
  "language_info": {
   "codemirror_mode": {
    "name": "ipython",
    "version": 3
   },
   "file_extension": ".py",
   "mimetype": "text/x-python",
   "name": "python",
   "nbconvert_exporter": "python",
   "pygments_lexer": "ipython3",
   "version": "3.6.4"
  }
 },
 "nbformat": 4,
 "nbformat_minor": 2
}
