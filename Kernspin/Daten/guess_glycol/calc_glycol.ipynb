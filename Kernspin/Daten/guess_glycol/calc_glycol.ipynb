{
 "cells": [
  {
   "cell_type": "code",
   "execution_count": 74,
   "metadata": {},
   "outputs": [
    {
     "name": "stdout",
     "output_type": "stream",
     "text": [
      "Populating the interactive namespace from numpy and matplotlib\n"
     ]
    }
   ],
   "source": [
    "%pylab inline\n",
    "#import matplotlib as plt\n",
    "#import numpy as np\n",
    "import pandas as pd\n",
    "import uncertainties\n",
    "from uncertainties import unumpy as unp\n",
    "from uncertainties import ufloat\n",
    "from sympy import *\n",
    "from numpy import array as array\n",
    "\n",
    "def gaussian(x, mu, sigma, B, A):\n",
    "    return A * np.e ** ((-1 * (x - mu) ** 2) / (2 * sigma ** 2)) + B\n",
    "\n",
    "def gausfit_pm(x, y, p0=None):\n",
    "    import numpy as np\n",
    "    return fit_pm(x, y, func=lambda x, mu, sigma, B, A: A * np.e ** ((-1 * (x - mu) ** 2) / (2 * sigma ** 2)) + B,\n",
    "                  p0=p0)\n",
    "def sine(x,a,b,c,d):\n",
    "    import numpy as np\n",
    "    return a*np.sin(c*x-d)+b\n",
    "\n",
    "def sinefit_pm(x,y,p0=None):\n",
    "    return fit_pm(x,y,sine,p0=p0)\n",
    "\n",
    "def line(x,a,b):\n",
    "    return a * x + b\n",
    "\n",
    "def linfit_pm(x, y, p0=None):\n",
    "    return fit_pm(x, y, func=lambda x, a, b,: a * x + b, p0=p0)\n",
    "\n",
    "\n",
    "def fit_pm(x, y, func=lambda x: x, p0=None):\n",
    "    \"\"\"\n",
    "        fit_pm takes data points and makes an exponential curve fit. It returns\n",
    "        the parameters with errors and the coefficient of determination\n",
    "        Parameters:\n",
    "        -----------\n",
    "        x: x-value of the data points.\n",
    "        y: y-value of the data points.\n",
    "        func: Function to be fitted to.\n",
    "        Returns:\n",
    "        -----------\n",
    "        list: Gives back a list with the parameters of an expotential function the\n",
    "              corresponding errors and the coefficient of determination.\n",
    "    \"\"\"\n",
    "    from scipy.optimize import curve_fit\n",
    "    import numpy as np\n",
    "    popt, pcov = curve_fit(func, x, y, p0=p0)\n",
    "    params = popt.copy()\n",
    "    errors = np.sqrt(np.diag(pcov))\n",
    "    r = np.array(y) - func(np.array(x), *params)\n",
    "    rss = np.sum(r ** 2)\n",
    "    tss = np.sum((y - np.mean(y)) ** 2)\n",
    "    R_2 = 1 - (rss / tss)\n",
    "    try:\n",
    "        from uncertainties import unumpy as unp\n",
    "        return unp.uarray(params, errors), R_2\n",
    "    except:\n",
    "        return np.array(params), np.array(errors), R_2\n",
    "\n",
    "\n",
    "def val(x):\n",
    "    from uncertainties import unumpy\n",
    "    try:\n",
    "        return unumpy.nominal_values(x)\n",
    "    except TypeError:\n",
    "        return x\n",
    "\n",
    "\n",
    "def errr(x):\n",
    "    from uncertainties import unumpy\n",
    "    return unumpy.std_devs(x)\n",
    "\n",
    "fig_size = plt.rcParams[\"figure.figsize\"]\n",
    "fig_size[0] = 10\n",
    "fig_size[1] = 7.5\n",
    "plt.rcParams[\"figure.figsize\"] = fig_size\n"
   ]
  },
  {
   "cell_type": "code",
   "execution_count": 30,
   "metadata": {},
   "outputs": [
    {
     "name": "stdout",
     "output_type": "stream",
     "text": [
      "cali\n",
      " [0.00044244234308799294+/-1.985696919947778e-05\n",
      " 0.003736509102934345+/-0.005445659683568066]\n",
      "bounds\n",
      "0.04733+/-0.00015 -0.01105+/-0.00015\n"
     ]
    }
   ],
   "source": [
    "%store -r cali\n",
    "%store -r upper_bound\n",
    "%store -r lower_bound\n",
    "print(\"cali\\n\",cali)\n",
    "print(\"bounds\")\n",
    "print(upper_bound,lower_bound)"
   ]
  },
  {
   "cell_type": "code",
   "execution_count": 65,
   "metadata": {},
   "outputs": [
    {
     "name": "stdout",
     "output_type": "stream",
     "text": [
      "file read 1\n",
      "file read 2\n",
      "file read 3\n",
      "file read 5\n",
      "file read \n"
     ]
    }
   ],
   "source": [
    "#filenames = [\"dx_1.csv\",\"dx_2.csv\",\"dx_3.csv\",\"dx_4.csv\",\"dx_5.csv\"]\n",
    "filename_l,filename_r = \"guess_gy\",\".csv\"\n",
    "#data = [[a_ch1,a_ch2],[b_ch1,b_ch2],[c_ch1,c_ch2],[d_ch1,d_ch2],[e_ch1,e_ch2]]\n",
    "data= []\n",
    "for i in [1,2,3,5,\"\"]:\n",
    "    df = pd.read_csv(filename_l+str(i)+filename_r,index_col=0)\n",
    "    print(\"file read\",i)\n",
    "    ch1 = [float(item)for item in df.iloc[1:,0].to_numpy()]\n",
    "    ch2 = [float(item)for item in df.iloc[1:,1].to_numpy()]\n",
    "    data.append([array(ch1),array(ch2)])"
   ]
  },
  {
   "cell_type": "code",
   "execution_count": 66,
   "metadata": {},
   "outputs": [],
   "source": [
    "def analysis(data_sine, data_dip, dist_to_dip=20, printt=0, plott=0,save=0):  \n",
    "    x = np.arange(len(data_sine))\n",
    "    if plott:\n",
    "        plt.plot(x,data_sine,label=0)\n",
    "        plt.plot(x,data_dip,label=1)\n",
    "        plt.legend()\n",
    "        plt.show()\n",
    "\n",
    "    def siner(x,y):\n",
    "        guess = [max(y),mean(y),100**-1,1]\n",
    "        params,errs = sinefit_pm(x,y,p0=guess)\n",
    "        return params,errs\n",
    "\n",
    "    def nuller(x,y,prec=0.01):\n",
    "        iterator = 0\n",
    "        nullstellen = [[],[]]\n",
    "        last = 0\n",
    "        for item in y:\n",
    "            if abs(item)<=prec:\n",
    "                if not abs(x[iterator]-last)<=5:\n",
    "                    nullstellen[0].append(x[iterator])\n",
    "                    nullstellen[1].append(y[iterator])\n",
    "                last=x[iterator]\n",
    "            iterator += 1\n",
    "\n",
    "        return nullstellen\n",
    "\n",
    "    def to_freq(x):\n",
    "        return line(x,*cali)\n",
    "    \n",
    "    x = np.arange(len(data_sine))\n",
    "    x_fine = np.linspace(0,len(data_sine),8*len(data_sine))\n",
    "    y = data_dip\n",
    "    params,err = siner(x,y)\n",
    "\n",
    "    y_guess = val(sine(x_fine,*val(params)))\n",
    "\n",
    "    nullstellen = nuller(x_fine,y_guess)\n",
    "    if plott:\n",
    "        plt.title(\"nullstellen\")\n",
    "        plt.plot(x,data_dip,label=1)\n",
    "        plt.plot(x_fine,sine(x_fine,*val(params)))\n",
    "        plt.plot(*nullstellen,\"o\")\n",
    "        plt.show()\n",
    "\n",
    "    if printt:\n",
    "        print([int((item)) for item in nullstellen[0]])\n",
    "\n",
    "    ranges=[] \n",
    "    for item in nullstellen[0]:\n",
    "        datapoints = data_sine[int(item)-dist_to_dip:int(item)+dist_to_dip]\n",
    "        #print(item)\n",
    "        #print(datapoints)\n",
    "        ranges.append([x[int(item)-dist_to_dip:int(item)+dist_to_dip],datapoints])\n",
    "    #print(\"\\nranges\\n\\n\",ranges)\n",
    "\n",
    "    if False:\n",
    "        for i in range(len(ranges)):\n",
    "            plt.plot(*ranges[i],\"-\")\n",
    "            plt.plot(ranges[i][0],np.ones(len(ranges[i][0]))*val(lower_bound),\"-\")\n",
    "            plt.show()\n",
    "\n",
    "    discr = []\n",
    "    for dataset in ranges:\n",
    "        intern = []\n",
    "        for i in range(len(dataset[1])):\n",
    "            if dataset[1][i] < lower_bound:\n",
    "                intern.append(i)\n",
    "        #print(intern)\n",
    "        stop = 0\n",
    "        for i in range(len(intern)):\n",
    "            if i > 1:\n",
    "                if abs(intern[i]-intern[i-1]) > 2:\n",
    "                    stop = i\n",
    "                    break\n",
    "        intern = intern[:stop]\n",
    "        output = [[],[]]\n",
    "        for num in intern:\n",
    "            output[0].append(dataset[0][num])\n",
    "            output[1].append(dataset[1][num])\n",
    "        discr.append(output)\n",
    "        if False:\n",
    "            print(\"output\",output)\n",
    "    if printt:\n",
    "        print(\"discr\",discr)\n",
    "\n",
    "    if plott:\n",
    "        for i in range(len(nullstellen[0])):\n",
    "            plt.title(\"Values below threshold\")\n",
    "            plt.plot(*ranges[i],\"-\")\n",
    "            plt.plot(ranges[i][0],np.ones(len(ranges[i][0]))*val(lower_bound),\"-\")\n",
    "            plt.plot(discr[i][0],discr[i][1],\"x\")\n",
    "            plt.show()\n",
    "\n",
    "    dips = []\n",
    "    for item in discr:\n",
    "        dip_y = min(item[1])\n",
    "        dip_x = item[0][item[1].index(dip_y)]\n",
    "        dip_err = abs(item[0][0]-item[0][-1])\n",
    "        combi = ufloat(dip_x,dip_err)\n",
    "        dips.append(combi)\n",
    "\n",
    "    nst = nullstellen[0]\n",
    "    diffs = []\n",
    "    for i in range(len(nst)):\n",
    "        intern = dips[i]-nst[i]\n",
    "        diffs.append(intern)\n",
    "    freq_unterschied = mean(diffs)\n",
    "    if printt:\n",
    "        print(\"freq_unterschied\",freq_unterschied)\n",
    "\n",
    "    end_freq = to_freq(freq_unterschied)\n",
    "    return end_freq"
   ]
  },
  {
   "cell_type": "code",
   "execution_count": 67,
   "metadata": {},
   "outputs": [
    {
     "data": {
      "text/plain": [
       "0.0018288922915371307+/-0.005576565032892119"
      ]
     },
     "execution_count": 67,
     "metadata": {},
     "output_type": "execute_result"
    }
   ],
   "source": [
    "# data[2] braucht manuelle discrimination\n",
    "#analysis(*data[2],40,plott=1)\n",
    "\n",
    "data_sine=data[2][0]\n",
    "data_dip=data[2][1]\n",
    "dist_to_dip=40\n",
    "printt=0\n",
    "plott=0\n",
    "  \n",
    "x = np.arange(len(data_sine))\n",
    "if plott:\n",
    "    plt.plot(x,data_sine,label=0)\n",
    "    plt.plot(x,data_dip,label=1)\n",
    "    plt.legend()\n",
    "    plt.show()\n",
    "\n",
    "def siner(x,y):\n",
    "    guess = [max(y),mean(y),100**-1,1]\n",
    "    params,errs = sinefit_pm(x,y,p0=guess)\n",
    "    return params,errs\n",
    "\n",
    "def nuller(x,y,prec=0.01):\n",
    "    iterator = 0\n",
    "    nullstellen = [[],[]]\n",
    "    last = 0\n",
    "    for item in y:\n",
    "        if abs(item)<=prec:\n",
    "            if not abs(x[iterator]-last)<=5:\n",
    "                nullstellen[0].append(x[iterator])\n",
    "                nullstellen[1].append(y[iterator])\n",
    "            last=x[iterator]\n",
    "        iterator += 1\n",
    "\n",
    "    return nullstellen\n",
    "\n",
    "def to_freq(x):\n",
    "    return line(x,*cali)\n",
    "\n",
    "x = np.arange(len(data_sine))\n",
    "x_fine = np.linspace(0,len(data_sine),8*len(data_sine))\n",
    "y = data_dip\n",
    "params,err = siner(x,y)\n",
    "\n",
    "y_guess = val(sine(x_fine,*val(params)))\n",
    "\n",
    "nullstellen = nuller(x_fine,y_guess)\n",
    "if plott:\n",
    "    plt.title(\"nullstellen\")\n",
    "    plt.plot(x,data_dip,label=1)\n",
    "    plt.plot(x_fine,sine(x_fine,*val(params)))\n",
    "    plt.plot(*nullstellen,\"o\")\n",
    "    plt.show()\n",
    "\n",
    "if printt:\n",
    "    print([int((item)) for item in nullstellen[0]])\n",
    "\n",
    "ranges=[] \n",
    "for item in nullstellen[0]:\n",
    "    datapoints = data_sine[int(item)-dist_to_dip:int(item)+dist_to_dip]\n",
    "    #print(item)\n",
    "    #print(datapoints)\n",
    "    ranges.append([x[int(item)-dist_to_dip:int(item)+dist_to_dip],datapoints])\n",
    "#print(\"\\nranges\\n\\n\",ranges)\n",
    "\n",
    "if False:\n",
    "    for i in range(len(ranges)):\n",
    "        plt.plot(*ranges[i],\"-\")\n",
    "        plt.plot(ranges[i][0],np.ones(len(ranges[i][0]))*val(lower_bound),\"-\")\n",
    "        plt.show()\n",
    "\n",
    "discr = [\n",
    "         [ranges[0][0][39:45],ranges[0][1][39:45]],\n",
    "         [ranges[1][0][21:27],ranges[1][1][21:27]],\n",
    "         [ranges[2][0][39:44],ranges[2][1][39:44]],\n",
    "        ]\n",
    "\n",
    "\n",
    "if plott:\n",
    "    for i in range(len(nullstellen[0])):\n",
    "        plt.title(\"Values below threshold\")\n",
    "        plt.plot(*ranges[i],\"-\")\n",
    "        plt.plot(ranges[i][0],np.ones(len(ranges[i][0]))*val(lower_bound),\"-\")\n",
    "        plt.plot(discr[i][0],discr[i][1],\"x\")\n",
    "        plt.show()\n",
    "\n",
    "dips = []\n",
    "for item in discr:\n",
    "    dip_y = min(item[1])\n",
    "    dip_x = item[0][list(item[1]).index(dip_y)]\n",
    "    dip_err = abs(item[0][0]-item[0][-1])\n",
    "    combi = ufloat(dip_x,dip_err)\n",
    "    dips.append(combi)\n",
    "\n",
    "nst = nullstellen[0]\n",
    "diffs = []\n",
    "for i in range(len(nst)):\n",
    "    intern = dips[i]-nst[i]\n",
    "    diffs.append(intern)\n",
    "freq_unterschied = mean(diffs)\n",
    "if printt:\n",
    "    print(\"freq_unterschied\",freq_unterschied)\n",
    "\n",
    "end_freq = to_freq(freq_unterschied)\n",
    "end_freq"
   ]
  },
  {
   "cell_type": "raw",
   "metadata": {},
   "source": [
    "analysis(*data[4],30,plott=1)"
   ]
  },
  {
   "cell_type": "raw",
   "metadata": {},
   "source": [
    "analysis(*data[0],30)"
   ]
  },
  {
   "cell_type": "raw",
   "metadata": {},
   "source": [
    "analysis(*data[1],25)"
   ]
  },
  {
   "cell_type": "raw",
   "metadata": {},
   "source": [
    "analysis(*data[3],25)"
   ]
  },
  {
   "cell_type": "code",
   "execution_count": 69,
   "metadata": {},
   "outputs": [],
   "source": [
    "frequs = [analysis(*data[0],30),analysis(*data[1],25),end_freq,analysis(*data[3],25),analysis(*data[4],30)]"
   ]
  },
  {
   "cell_type": "code",
   "execution_count": 70,
   "metadata": {},
   "outputs": [],
   "source": [
    "magnets = [395,383,371,405,414]"
   ]
  },
  {
   "cell_type": "code",
   "execution_count": 71,
   "metadata": {},
   "outputs": [],
   "source": [
    "def LRmG(x: list , y: list, u: list) -> list:\n",
    "    \"\"\"Linear Regression, weighted.\n",
    "    \n",
    "    \"\"\"\n",
    "    try:\n",
    "        u[0]\n",
    "        if (len(x) != len(y)):\n",
    "            raise LenError\n",
    "        if (len(x) != len(u)):\n",
    "            raise LenError\n",
    "        x = array(x)\n",
    "        y = array(y)\n",
    "        u = array(u)\n",
    "        g = []\n",
    "        for i in range(len(y)):\n",
    "            g.append(1 / u[i] ** 2)\n",
    "\n",
    "        a = (sum(g * (x ** 2)) * sum(g * y) - sum(g * x) * sum(g * x * y)) / (\n",
    "                    sum(g) * sum(g * (x ** 2)) - (sum(g * x) ** 2))\n",
    "\n",
    "        b = (sum(g) * sum(g * x * y) - sum(g * x) * sum(g * y)) / (sum(g) * sum(g * x ** 2) - sum(g * x) ** 2)\n",
    "\n",
    "        ua = sqrt(sum(g * x ** 2) / (sum(g) * sum(g * x ** 2) - sum(g * x) ** 2))\n",
    "\n",
    "        ub = sqrt(sum(g) / (sum(g) * sum(g * x ** 2) - sum(g * x) ** 2))\n",
    "\n",
    "        return a, b, ua, ub\n",
    "\n",
    "    except TypeError:\n",
    "        return LRmG(x, y, ones(len(y)) * u)"
   ]
  },
  {
   "cell_type": "code",
   "execution_count": 72,
   "metadata": {},
   "outputs": [],
   "source": [
    "true_freqs= array(frequs)+unp.uarray([18.5743,18.0769,17.5178,19.0363,19.4891],0.00005)"
   ]
  },
  {
   "cell_type": "code",
   "execution_count": 81,
   "metadata": {},
   "outputs": [],
   "source": [
    "a,b,ua,ub = LRmG(magnets,val(true_freqs),errr(true_freqs))\n",
    "params,err = linfit_pm(magnets,val(true_freqs))"
   ]
  },
  {
   "cell_type": "code",
   "execution_count": 88,
   "metadata": {},
   "outputs": [
    {
     "name": "stdout",
     "output_type": "stream",
     "text": [
      "[0.045336809627396044+/-0.0007786992846055296\n",
      " 0.696815347137565+/-0.3067276145092111]\n",
      "0.04540672423372444 0.6678333359771954\n"
     ]
    }
   ],
   "source": [
    "print(params)\n",
    "print(b,a)"
   ]
  },
  {
   "cell_type": "code",
   "execution_count": 86,
   "metadata": {},
   "outputs": [
    {
     "data": {
      "image/png": "[encoded data removed]",
      "text/plain": [
       "<Figure size 720x540 with 1 Axes>"
      ]
     },
     "metadata": {
      "needs_background": "light"
     },
     "output_type": "display_data"
    }
   ],
   "source": [
    "plt.errorbar(magnets, val(true_freqs),errr(true_freqs),fmt=\"x\",label=\"corrected frequencies\")\n",
    "plt.plot(np.linspace(min(magnets)-10,max(magnets)+10),line(np.linspace(min(magnets),max(magnets)),*val(params)),label=\"linear fit\")\n",
    "plt.legend()\n",
    "plt.show()"
   ]
  },
  {
   "cell_type": "code",
   "execution_count": 85,
   "metadata": {},
   "outputs": [
    {
     "data": {
      "text/plain": [
       "46.03362497453361+/-0.8369315416135747"
      ]
     },
     "execution_count": 85,
     "metadata": {},
     "output_type": "execute_result"
    }
   ],
   "source": [
    "line(1000,*params)"
   ]
  },
  {
   "cell_type": "code",
   "execution_count": 100,
   "metadata": {},
   "outputs": [
    {
     "data": {
      "text/plain": [
       "19110000.0"
      ]
     },
     "execution_count": 100,
     "metadata": {},
     "output_type": "execute_result"
    }
   ],
   "source": [
    "19.11e6\n",
    "#/450e-3*2*np.pi"
   ]
  },
  {
   "cell_type": "code",
   "execution_count": 99,
   "metadata": {},
   "outputs": [
    {
     "data": {
      "text/plain": [
       "array([18577234.99046717+/-5640.240323092944,\n",
       "       18079355.689451955+/-7040.084883395797,\n",
       "       17519628.89229154+/-5576.789180709189,\n",
       "       19039013.776977714+/-5531.28296381166,\n",
       "       19491684.733214837+/-5562.703095537173], dtype=object)"
      ]
     },
     "execution_count": 99,
     "metadata": {},
     "output_type": "execute_result"
    }
   ],
   "source": [
    "true_freqs*1e6"
   ]
  },
  {
   "cell_type": "code",
   "execution_count": 102,
   "metadata": {},
   "outputs": [
    {
     "data": {
      "text/plain": [
       "array([295504328.9623438+/-89718.1648785302,\n",
       "       296595148.9066271+/-115493.8848580929,\n",
       "       296709096.6126285+/-94447.43892579532,\n",
       "       295371979.3251755+/-85812.53295820784,\n",
       "       295820935.09157515+/-84423.89941565596], dtype=object)"
      ]
     },
     "execution_count": 102,
     "metadata": {},
     "output_type": "execute_result"
    }
   ],
   "source": [
    "gamma=params[0]*2*np.pi\n",
    "gamma2=((true_freqs*1e6)/(array(magnets)*1e-3))*2*np.pi\n",
    "gamma2"
   ]
  },
  {
   "cell_type": "code",
   "execution_count": 104,
   "metadata": {},
   "outputs": [
    {
     "data": {
      "text/html": [
       "<div>\n",
       "<style scoped>\n",
       "    .dataframe tbody tr th:only-of-type {\n",
       "        vertical-align: middle;\n",
       "    }\n",
       "\n",
       "    .dataframe tbody tr th {\n",
       "        vertical-align: top;\n",
       "    }\n",
       "\n",
       "    .dataframe thead th {\n",
       "        text-align: right;\n",
       "    }\n",
       "</style>\n",
       "<table border=\"1\" class=\"dataframe\">\n",
       "  <thead>\n",
       "    <tr style=\"text-align: right;\">\n",
       "      <th></th>\n",
       "      <th>Corrected resonance frequencies [Mhz]</th>\n",
       "      <th>Measured magnetic fields [mT]</th>\n",
       "      <th>$\\gamma$</th>\n",
       "    </tr>\n",
       "  </thead>\n",
       "  <tbody>\n",
       "    <tr>\n",
       "      <td>0</td>\n",
       "      <td>18.577+/-0.006</td>\n",
       "      <td>395</td>\n",
       "      <td>(2.9550+/-0.0009)e+08</td>\n",
       "    </tr>\n",
       "    <tr>\n",
       "      <td>1</td>\n",
       "      <td>18.079+/-0.007</td>\n",
       "      <td>383</td>\n",
       "      <td>(2.9660+/-0.0012)e+08</td>\n",
       "    </tr>\n",
       "    <tr>\n",
       "      <td>2</td>\n",
       "      <td>17.520+/-0.006</td>\n",
       "      <td>371</td>\n",
       "      <td>(2.9671+/-0.0009)e+08</td>\n",
       "    </tr>\n",
       "    <tr>\n",
       "      <td>3</td>\n",
       "      <td>19.039+/-0.006</td>\n",
       "      <td>405</td>\n",
       "      <td>(2.9537+/-0.0009)e+08</td>\n",
       "    </tr>\n",
       "    <tr>\n",
       "      <td>4</td>\n",
       "      <td>19.492+/-0.006</td>\n",
       "      <td>414</td>\n",
       "      <td>(2.9582+/-0.0008)e+08</td>\n",
       "    </tr>\n",
       "  </tbody>\n",
       "</table>\n",
       "</div>"
      ],
      "text/plain": [
       "  Corrected resonance frequencies [Mhz] Measured magnetic fields [mT]  \\\n",
       "0                        18.577+/-0.006                           395   \n",
       "1                        18.079+/-0.007                           383   \n",
       "2                        17.520+/-0.006                           371   \n",
       "3                        19.039+/-0.006                           405   \n",
       "4                        19.492+/-0.006                           414   \n",
       "\n",
       "                $\\gamma$  \n",
       "0  (2.9550+/-0.0009)e+08  \n",
       "1  (2.9660+/-0.0012)e+08  \n",
       "2  (2.9671+/-0.0009)e+08  \n",
       "3  (2.9537+/-0.0009)e+08  \n",
       "4  (2.9582+/-0.0008)e+08  "
      ]
     },
     "execution_count": 104,
     "metadata": {},
     "output_type": "execute_result"
    }
   ],
   "source": [
    "df = pd.DataFrame(np.transpose([true_freqs,magnets,gamma2]),\n",
    "                  columns=[r\"Corrected resonance frequencies [Mhz]\",r\"Measured magnetic fields [mT]\",r\"$\\gamma$\"])\n",
    "df"
   ]
  },
  {
   "cell_type": "code",
   "execution_count": 105,
   "metadata": {
    "scrolled": true
   },
   "outputs": [
    {
     "name": "stdout",
     "output_type": "stream",
     "text": [
      "\\begin{tabular}{llll}\n",
      "\\toprule\n",
      "{} & Corrected resonance frequencies [Mhz] & Measured magnetic fields [mT] &               \\$\\textbackslash gamma\\$ \\\\\n",
      "\\midrule\n",
      "0 &                        18.577+/-0.006 &                           395 &  (2.9550+/-0.0009)e+08 \\\\\n",
      "1 &                        18.079+/-0.007 &                           383 &  (2.9660+/-0.0012)e+08 \\\\\n",
      "2 &                        17.520+/-0.006 &                           371 &  (2.9671+/-0.0009)e+08 \\\\\n",
      "3 &                        19.039+/-0.006 &                           405 &  (2.9537+/-0.0009)e+08 \\\\\n",
      "4 &                        19.492+/-0.006 &                           414 &  (2.9582+/-0.0008)e+08 \\\\\n",
      "\\bottomrule\n",
      "\\end{tabular}\n",
      "\n"
     ]
    }
   ],
   "source": [
    "print(df.to_latex())"
   ]
  },
  {
   "cell_type": "code",
   "execution_count": 108,
   "metadata": {},
   "outputs": [
    {
     "data": {
      "image/png": "[encoded data removed]",
      "text/plain": [
       "<Figure size 720x540 with 1 Axes>"
      ]
     },
     "metadata": {
      "needs_background": "light"
     },
     "output_type": "display_data"
    }
   ],
   "source": [
    "plt.plot(val(magnets), val(true_freqs),\"x\",label=\"corrected frequencies\")\n",
    "\n",
    "plt.plot(np.linspace(min(val(magnets))-10,max(val(magnets))+10),line(np.linspace(min(val(magnets)),max(val(magnets))),b,a),label=\"linear fit\")\n",
    "plt.text(400,17.8,'Fit Information:\\n$n(\\\\Delta t)=m\\\\cdot \\\\Delta t +c $\\n\\n$m=({:.6f}\\\\pm {:.6f})$/ns\\n$c=({:.5f}\\\\pm {:.5f})$\\n\\nResonance frequency per magnetic field:\\n{:} MHz/T'\n",
    "         .format(b,ub,a,ua,line(1000,ufloat(b,ub),ufloat(a,ua))),bbox={'facecolor':'white', 'alpha':0.8}, fontsize=10)\n",
    "#\"Resonance frequency per magnetic field:\\n{:} \\\\frac{MHz}{T}\".format(line(1000,ufloat(b,ub),ufloat(a,ua))), \n",
    "\n",
    "###   Label / Title\n",
    "\n",
    "plt.ylabel(r'$U\\,[\\mathrm{V}]$', fontsize=13)\n",
    "plt.xlabel(r'$Channel$', fontsize=13)\n",
    "plt.title('Corrected frequencies glycol', fontsize=16)\n",
    "\n",
    "###   Axes / Grid\n",
    "\n",
    "axes = plt.gca()  ##  Searches current Axes\n",
    "\n",
    "#axes.set_xlim([0,0.8])\n",
    "#axes.set_ylim([-1,110])\n",
    "\n",
    "#axes.set_yticks([0,10,20,30,40,50,60,70,80,90,100,110])\n",
    "#axes.set_xticks([0.1,0.2,0.3,0.4,0.5,0.6,0.7,0.8])\n",
    "\n",
    "axes.grid(which='major', linestyle='-', linewidth='1', color='black')\n",
    "axes.grid(which='minor', linestyle=':', color='gray')\n",
    "axes.minorticks_on()\n",
    "\n",
    "plt.legend()\n",
    "plt.savefig('glycol.png')\n",
    "plt.show()"
   ]
  }
 ],
 "metadata": {
  "kernelspec": {
   "display_name": "Python 3",
   "language": "python",
   "name": "python3"
  },
  "language_info": {
   "codemirror_mode": {
    "name": "ipython",
    "version": 3
   },
   "file_extension": ".py",
   "mimetype": "text/x-python",
   "name": "python",
   "nbconvert_exporter": "python",
   "pygments_lexer": "ipython3",
   "version": "3.7.3"
  }
 },
 "nbformat": 4,
 "nbformat_minor": 2
}
