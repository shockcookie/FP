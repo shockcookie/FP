{
 "cells": [
  {
   "cell_type": "code",
   "execution_count": 26,
   "metadata": {},
   "outputs": [
    {
     "name": "stdout",
     "output_type": "stream",
     "text": [
      "Populating the interactive namespace from numpy and matplotlib\n"
     ]
    },
    {
     "name": "stderr",
     "output_type": "stream",
     "text": [
      "c:\\users\\erik_\\appdata\\local\\programs\\python\\python37\\lib\\site-packages\\IPython\\core\\magics\\pylab.py:160: UserWarning: pylab import has clobbered these variables: ['partition', 'var', 'log', 'det', 'diag', 'sqrt', 'gamma', 'reshape', 'cosh', 'product', 'cos', 'solve', 'conjugate', 'nan', 'Circle', 'trace', 'zeros', 'invert', 'interactive', 'transpose', 'lcm', 'prod', 'Line2D', 'deprecated', 'sign', 'poly', 'gcd', 'mod', 'plot', 'tan', 'fft', 'binomial', 'tanh', 'ones', 'sin', 'plotting', 'pi', 'vectorize', 'power', 'diff', 're', 'sinh', 'ifft', 'add', 'Number', 'flatten', 'test', 'seterr', 'multinomial', 'trunc', 'eye', 'axes', 'floor', 'exp', 'take', 'roots', 'Polygon', 'sinc', 'source', 'beta', 'cbrt']\n",
      "`%matplotlib` prevents importing * from pylab and numpy\n",
      "  \"\\n`%matplotlib` prevents importing * from pylab and numpy\"\n"
     ]
    }
   ],
   "source": [
    "%pylab inline\n",
    "#import matplotlib as plt\n",
    "#import numpy as np\n",
    "import pandas as pd\n",
    "import uncertainties\n",
    "from uncertainties import unumpy as unp\n",
    "from uncertainties import ufloat\n",
    "from sympy import *\n",
    "from numpy import array as array\n",
    "\n",
    "def gaussian(x, mu, sigma, B, A):\n",
    "    return A * np.e ** ((-1 * (x - mu) ** 2) / (2 * sigma ** 2)) + B\n",
    "\n",
    "def gausfit_pm(x, y, p0=None):\n",
    "    import numpy as np\n",
    "    return fit_pm(x, y, func=lambda x, mu, sigma, B, A: A * np.e ** ((-1 * (x - mu) ** 2) / (2 * sigma ** 2)) + B,\n",
    "                  p0=p0)\n",
    "def sine(x,a,b,c,d):\n",
    "    import numpy as np\n",
    "    return a*np.sin(c*x-d)+b\n",
    "\n",
    "def sinefit_pm(x,y,p0=None):\n",
    "    return fit_pm(x,y,sine,p0=p0)\n",
    "\n",
    "def line(x,a,b):\n",
    "    return a * x + b\n",
    "\n",
    "def linfit_pm(x, y, p0=None):\n",
    "    return fit_pm(x, y, func=lambda x, a, b,: a * x + b, p0=p0)\n",
    "\n",
    "\n",
    "def fit_pm(x, y, func=lambda x: x, p0=None):\n",
    "    \"\"\"\n",
    "        fit_pm takes data points and makes an exponential curve fit. It returns\n",
    "        the parameters with errors and the coefficient of determination\n",
    "        Parameters:\n",
    "        -----------\n",
    "        x: x-value of the data points.\n",
    "        y: y-value of the data points.\n",
    "        func: Function to be fitted to.\n",
    "        Returns:\n",
    "        -----------\n",
    "        list: Gives back a list with the parameters of an expotential function the\n",
    "              corresponding errors and the coefficient of determination.\n",
    "    \"\"\"\n",
    "    from scipy.optimize import curve_fit\n",
    "    import numpy as np\n",
    "    popt, pcov = curve_fit(func, x, y, p0=p0)\n",
    "    params = popt.copy()\n",
    "    errors = np.sqrt(np.diag(pcov))\n",
    "    r = np.array(y) - func(np.array(x), *params)\n",
    "    rss = np.sum(r ** 2)\n",
    "    tss = np.sum((y - np.mean(y)) ** 2)\n",
    "    R_2 = 1 - (rss / tss)\n",
    "    try:\n",
    "        from uncertainties import unumpy as unp\n",
    "        return unp.uarray(params, errors), R_2\n",
    "    except:\n",
    "        return np.array(params), np.array(errors), R_2\n",
    "\n",
    "\n",
    "def val(x):\n",
    "    from uncertainties import unumpy\n",
    "    try:\n",
    "        return unumpy.nominal_values(x)\n",
    "    except TypeError:\n",
    "        return x\n",
    "\n",
    "\n",
    "def errr(x):\n",
    "    from uncertainties import unumpy\n",
    "    return unumpy.std_devs(x)\n",
    "\n",
    "fig_size = plt.rcParams[\"figure.figsize\"]\n",
    "fig_size[0] = 10\n",
    "fig_size[1] = 7.5\n",
    "plt.rcParams[\"figure.figsize\"] = fig_size\n"
   ]
  },
  {
   "cell_type": "code",
   "execution_count": 2,
   "metadata": {},
   "outputs": [
    {
     "name": "stdout",
     "output_type": "stream",
     "text": [
      "cali\n",
      " [0.00044244234308799294+/-1.985696919947778e-05\n",
      " 0.003736509102934345+/-0.005445659683568066]\n",
      "bounds\n",
      "0.04733+/-0.00015 -0.01105+/-0.00015\n"
     ]
    }
   ],
   "source": [
    "%store -r cali\n",
    "%store -r upper_bound\n",
    "%store -r lower_bound\n",
    "print(\"cali\\n\",cali)\n",
    "print(\"bounds\")\n",
    "print(upper_bound,lower_bound)"
   ]
  },
  {
   "cell_type": "code",
   "execution_count": 3,
   "metadata": {},
   "outputs": [
    {
     "name": "stdout",
     "output_type": "stream",
     "text": [
      "file read 1\n",
      "file read 2\n",
      "file read 3\n",
      "file read 4\n",
      "file read 5\n",
      "file read 6\n"
     ]
    }
   ],
   "source": [
    "#filenames = [\"dx_1.csv\",\"dx_2.csv\",\"dx_3.csv\",\"dx_4.csv\",\"dx_5.csv\"]\n",
    "filename_l,filename_r = \"guess_f\",\".csv\"\n",
    "#data = [[a_ch1,a_ch2],[b_ch1,b_ch2],[c_ch1,c_ch2],[d_ch1,d_ch2],[e_ch1,e_ch2]]\n",
    "data= []\n",
    "for i in [1,2,3,4,5,6]:\n",
    "    df = pd.read_csv(filename_l+str(i)+filename_r,index_col=0)\n",
    "    print(\"file read\",i)\n",
    "    ch1 = [float(item)for item in df.iloc[1:,0].to_numpy()]\n",
    "    ch2 = [float(item)for item in df.iloc[1:,1].to_numpy()]\n",
    "    data.append([array(ch1),array(ch2)])"
   ]
  },
  {
   "cell_type": "code",
   "execution_count": 4,
   "metadata": {},
   "outputs": [],
   "source": [
    "def analysis(data_sine, data_dip, dist_to_dip=20, printt=0, plott=0,save=0):  \n",
    "    x = np.arange(len(data_sine))\n",
    "    if plott:\n",
    "        plt.plot(x,data_sine,label=0)\n",
    "        plt.plot(x,data_dip,label=1)\n",
    "        plt.legend()\n",
    "        plt.show()\n",
    "\n",
    "    def siner(x,y):\n",
    "        guess = [max(y),mean(y),100**-1,1]\n",
    "        params,errs = sinefit_pm(x,y,p0=guess)\n",
    "        return params,errs\n",
    "\n",
    "    def nuller(x,y,prec=0.01):\n",
    "        iterator = 0\n",
    "        nullstellen = [[],[]]\n",
    "        last = 0\n",
    "        for item in y:\n",
    "            if abs(item)<=prec:\n",
    "                if not abs(x[iterator]-last)<=5:\n",
    "                    nullstellen[0].append(x[iterator])\n",
    "                    nullstellen[1].append(y[iterator])\n",
    "                last=x[iterator]\n",
    "            iterator += 1\n",
    "\n",
    "        return nullstellen\n",
    "\n",
    "    def to_freq(x):\n",
    "        return line(x,*cali)\n",
    "    \n",
    "    x = np.arange(len(data_sine))\n",
    "    x_fine = np.linspace(0,len(data_sine),8*len(data_sine))\n",
    "    y = data_dip\n",
    "    params,err = siner(x,y)\n",
    "\n",
    "    y_guess = val(sine(x_fine,*val(params)))\n",
    "\n",
    "    nullstellen = nuller(x_fine,y_guess)\n",
    "    if plott:\n",
    "        plt.title(\"nullstellen\")\n",
    "        plt.plot(x,data_dip,label=1)\n",
    "        plt.plot(x_fine,sine(x_fine,*val(params)))\n",
    "        plt.plot(*nullstellen,\"o\")\n",
    "        plt.show()\n",
    "\n",
    "    if printt:\n",
    "        print([int((item)) for item in nullstellen[0]])\n",
    "\n",
    "    ranges=[] \n",
    "    for item in nullstellen[0]:\n",
    "        datapoints = data_sine[int(item)-dist_to_dip:int(item)+dist_to_dip]\n",
    "        #print(item)\n",
    "        #print(datapoints)\n",
    "        ranges.append([x[int(item)-dist_to_dip:int(item)+dist_to_dip],datapoints])\n",
    "    #print(\"\\nranges\\n\\n\",ranges)\n",
    "\n",
    "    if False:\n",
    "        for i in range(len(ranges)):\n",
    "            plt.plot(*ranges[i],\"-\")\n",
    "            plt.plot(ranges[i][0],np.ones(len(ranges[i][0]))*val(lower_bound),\"-\")\n",
    "            plt.show()\n",
    "\n",
    "    discr = []\n",
    "    for dataset in ranges:\n",
    "        intern = []\n",
    "        for i in range(len(dataset[1])):\n",
    "            if dataset[1][i] < lower_bound:\n",
    "                intern.append(i)\n",
    "        #print(intern)\n",
    "        stop = 0\n",
    "        for i in range(len(intern)):\n",
    "            if i > 1:\n",
    "                if abs(intern[i]-intern[i-1]) > 2:\n",
    "                    stop = i\n",
    "                    break\n",
    "        intern = intern[:stop]\n",
    "        output = [[],[]]\n",
    "        for num in intern:\n",
    "            output[0].append(dataset[0][num])\n",
    "            output[1].append(dataset[1][num])\n",
    "        discr.append(output)\n",
    "        if False:\n",
    "            print(\"output\",output)\n",
    "    if printt:\n",
    "        print(\"discr\",discr)\n",
    "\n",
    "    if plott:\n",
    "        for i in range(len(nullstellen[0])):\n",
    "            plt.title(\"Values below threshold\")\n",
    "            plt.plot(*ranges[i],\"-\")\n",
    "            plt.plot(ranges[i][0],np.ones(len(ranges[i][0]))*val(lower_bound),\"-\")\n",
    "            plt.plot(discr[i][0],discr[i][1],\"x\")\n",
    "            plt.show()\n",
    "\n",
    "    dips = []\n",
    "    for item in discr:\n",
    "        dip_y = min(item[1])\n",
    "        dip_x = item[0][item[1].index(dip_y)]\n",
    "        dip_err = abs(item[0][0]-item[0][-1])\n",
    "        combi = ufloat(dip_x,dip_err)\n",
    "        dips.append(combi)\n",
    "\n",
    "    nst = nullstellen[0]\n",
    "    diffs = []\n",
    "    for i in range(len(nst)):\n",
    "        intern = dips[i]-nst[i]\n",
    "        diffs.append(intern)\n",
    "    freq_unterschied = mean(diffs)\n",
    "    if printt:\n",
    "        print(\"freq_unterschied\",freq_unterschied)\n",
    "\n",
    "    end_freq = to_freq(dips[0]-freq_unterschied)\n",
    "    return end_freq"
   ]
  },
  {
   "cell_type": "code",
   "execution_count": 5,
   "metadata": {},
   "outputs": [],
   "source": [
    "def analysis(data_sine, data_dip, dist_to_dip=20, printt=0, plott=0,save=0):  \n",
    "    x = np.arange(len(data_sine))\n",
    "    if plott:\n",
    "        plt.plot(x,data_sine,label=0)\n",
    "        plt.plot(x,data_dip,label=1)\n",
    "        plt.legend()\n",
    "        plt.show()\n",
    "\n",
    "    def siner(x,y):\n",
    "        guess = [max(y),mean(y),100**-1,1]\n",
    "        params,errs = sinefit_pm(x,y,p0=guess)\n",
    "        return params,errs\n",
    "\n",
    "    def nuller(x,y,prec=0.01):\n",
    "        iterator = 0\n",
    "        nullstellen = [[],[]]\n",
    "        last = 0\n",
    "        for item in y:\n",
    "            if abs(item)<=prec:\n",
    "                if not abs(x[iterator]-last)<=5:\n",
    "                    nullstellen[0].append(x[iterator])\n",
    "                    nullstellen[1].append(y[iterator])\n",
    "                last=x[iterator]\n",
    "            iterator += 1\n",
    "\n",
    "        return nullstellen\n",
    "\n",
    "    def to_freq(x):\n",
    "        return line(x,*cali)\n",
    "    \n",
    "    x = np.arange(len(data_sine))\n",
    "    x_fine = np.linspace(0,len(data_sine),8*len(data_sine))\n",
    "    y = data_dip\n",
    "    params,err = siner(x,y)\n",
    "\n",
    "    y_guess = val(sine(x_fine,*val(params)))\n",
    "\n",
    "    nullstellen = nuller(x_fine,y_guess)\n",
    "    if plott:\n",
    "        plt.title(\"nullstellen\")\n",
    "        plt.plot(x,data_dip,label=1)\n",
    "        plt.plot(x_fine,sine(x_fine,*val(params)))\n",
    "        plt.plot(*nullstellen,\"o\")\n",
    "        plt.show()\n",
    "\n",
    "    if printt:\n",
    "        print([int((item)) for item in nullstellen[0]])\n",
    "\n",
    "    ranges=[] \n",
    "    for item in nullstellen[0]:\n",
    "        datapoints = data_sine[int(item)-dist_to_dip:int(item)+dist_to_dip]\n",
    "        #print(item)\n",
    "        #print(datapoints)\n",
    "        ranges.append([x[int(item)-dist_to_dip:int(item)+dist_to_dip],datapoints])\n",
    "    #print(\"\\nranges\\n\\n\",ranges)\n",
    "\n",
    "    if False:\n",
    "        for i in range(len(ranges)):\n",
    "            plt.plot(*ranges[i],\"-\")\n",
    "            plt.plot(ranges[i][0],np.ones(len(ranges[i][0]))*val(lower_bound),\"-\")\n",
    "            plt.show()\n",
    "\n",
    "    discr = []\n",
    "    for dataset in ranges:\n",
    "        intern = []\n",
    "        for i in range(len(dataset[1])):\n",
    "            if dataset[1][i] < lower_bound:\n",
    "                intern.append(i)\n",
    "        #print(intern)\n",
    "        stop = 0\n",
    "        for i in range(len(intern)):\n",
    "            if i > 1:\n",
    "                if abs(intern[i]-intern[i-1]) > 2:\n",
    "                    stop = i\n",
    "                    break\n",
    "        intern = intern[:stop]\n",
    "        output = [[],[]]\n",
    "        for num in intern:\n",
    "            output[0].append(dataset[0][num])\n",
    "            output[1].append(dataset[1][num])\n",
    "        discr.append(output)\n",
    "        if False:\n",
    "            print(\"output\",output)\n",
    "    if printt:\n",
    "        print(\"discr\",discr)\n",
    "\n",
    "    if plott:\n",
    "        for i in range(len(nullstellen[0])):\n",
    "            plt.title(\"Values below threshold\")\n",
    "            plt.plot(*ranges[i],\"-\")\n",
    "            plt.plot(ranges[i][0],np.ones(len(ranges[i][0]))*val(lower_bound),\"-\")\n",
    "            plt.plot(discr[i][0],discr[i][1],\"x\")\n",
    "            plt.show()\n",
    "\n",
    "    dips = []\n",
    "    for item in discr:\n",
    "        dip_y = min(item[1])\n",
    "        dip_x = item[0][item[1].index(dip_y)]\n",
    "        dip_err = abs(item[0][0]-item[0][-1])\n",
    "        combi = ufloat(dip_x,dip_err)\n",
    "        dips.append(combi)\n",
    "\n",
    "    nst = nullstellen[0]\n",
    "    diffs = []\n",
    "    for i in range(len(nst)):\n",
    "        intern = dips[i]-nst[i]\n",
    "        diffs.append(intern)\n",
    "    freq_unterschied = mean(diffs)\n",
    "    if printt:\n",
    "        print(\"freq_unterschied\",freq_unterschied)\n",
    "\n",
    "    end_freq = to_freq(freq_unterschied)\n",
    "    return end_freq"
   ]
  },
  {
   "cell_type": "raw",
   "metadata": {},
   "source": [
    "analysis(*data[0],20)\n",
    "\n",
    "analysis(*data[1],20)\n",
    "\n",
    "analysis(*data[2],20)\n",
    "\n",
    "analysis(*data[4])\n",
    "\n",
    "analysis(*data[5])"
   ]
  },
  {
   "cell_type": "code",
   "execution_count": 6,
   "metadata": {},
   "outputs": [
    {
     "data": {
      "text/plain": [
       "-3.31389924807567e-05+/-0.005564810561974581"
      ]
     },
     "execution_count": 6,
     "metadata": {},
     "output_type": "execute_result"
    }
   ],
   "source": [
    "# 2. nullstelle manuell machen\n",
    "#analysis(*data[3],20,plott=1)\n",
    "\n",
    "data_sine, data_dip =data[3][0],data[3][1]\n",
    "dist_to_dip=20\n",
    "printt=0\n",
    "plott=0\n",
    "  \n",
    "x = np.arange(len(data_sine))\n",
    "if plott:\n",
    "    plt.plot(x,data_sine,label=0)\n",
    "    plt.plot(x,data_dip,label=1)\n",
    "    plt.legend()\n",
    "    plt.show()\n",
    "\n",
    "def siner(x,y):\n",
    "    guess = [max(y),mean(y),100**-1,1]\n",
    "    params,errs = sinefit_pm(x,y,p0=guess)\n",
    "    return params,errs\n",
    "\n",
    "def nuller(x,y,prec=0.01):\n",
    "    iterator = 0\n",
    "    nullstellen = [[],[]]\n",
    "    last = 0\n",
    "    for item in y:\n",
    "        if abs(item)<=prec:\n",
    "            if not abs(x[iterator]-last)<=5:\n",
    "                nullstellen[0].append(x[iterator])\n",
    "                nullstellen[1].append(y[iterator])\n",
    "            last=x[iterator]\n",
    "        iterator += 1\n",
    "\n",
    "    return nullstellen\n",
    "\n",
    "def to_freq(x):\n",
    "    return line(x,*cali)\n",
    "\n",
    "x = np.arange(len(data_sine))\n",
    "x_fine = np.linspace(0,len(data_sine),8*len(data_sine))\n",
    "y = data_dip\n",
    "params,err = siner(x,y)\n",
    "\n",
    "y_guess = val(sine(x_fine,*val(params)))\n",
    "\n",
    "nullstellen = nuller(x_fine,y_guess)\n",
    "if plott:\n",
    "    plt.title(\"nullstellen\")\n",
    "    plt.plot(x,data_dip,label=1)\n",
    "    plt.plot(x_fine,sine(x_fine,*val(params)))\n",
    "    plt.plot(*nullstellen,\"o\")\n",
    "    plt.show()\n",
    "\n",
    "if printt:\n",
    "    print([int((item)) for item in nullstellen[0]])\n",
    "\n",
    "ranges=[] \n",
    "for item in nullstellen[0]:\n",
    "    datapoints = data_sine[int(item)-dist_to_dip:int(item)+dist_to_dip]\n",
    "    #print(item)\n",
    "    #print(datapoints)\n",
    "    ranges.append([x[int(item)-dist_to_dip:int(item)+dist_to_dip],datapoints])\n",
    "#print(\"\\nranges\\n\\n\",ranges)\n",
    "\n",
    "if False:\n",
    "    for i in range(len(ranges)):\n",
    "        plt.plot(*ranges[i],\"-\")\n",
    "        plt.plot(ranges[i][0],np.ones(len(ranges[i][0]))*val(lower_bound),\"-\")\n",
    "        plt.show()\n",
    "\n",
    "discr = []\n",
    "for dataset in ranges:\n",
    "    intern = []\n",
    "    for i in range(len(dataset[1])):\n",
    "        if dataset[1][i] < lower_bound:\n",
    "            intern.append(i)\n",
    "    #print(intern)\n",
    "    stop = 0\n",
    "    for i in range(len(intern)):\n",
    "        if i > 1:\n",
    "            if abs(intern[i]-intern[i-1]) > 2:\n",
    "                stop = i\n",
    "                break\n",
    "    intern = intern[:stop]\n",
    "    output = [[],[]]\n",
    "    for num in intern:\n",
    "        output[0].append(dataset[0][num])\n",
    "        output[1].append(dataset[1][num])\n",
    "    discr.append(output)\n",
    "    if False:\n",
    "        print(\"output\",output)\n",
    "if printt:\n",
    "    print(\"discr\",discr)\n",
    "\n",
    "discr[1]=[ranges[1][0][15:21],ranges[1][1][15:21]]\n",
    "if plott:\n",
    "    for i in range(len(nullstellen[0])):\n",
    "        plt.title(\"Values below threshold\")\n",
    "        plt.plot(*ranges[i],\"-\")\n",
    "        plt.plot(ranges[i][0],np.ones(len(ranges[i][0]))*val(lower_bound),\"-\")\n",
    "        plt.plot(discr[i][0],discr[i][1],\"x\")\n",
    "        plt.show()\n",
    "\n",
    "dips = []\n",
    "for item in discr:\n",
    "    dip_y = min(item[1])\n",
    "    dip_x = item[0][list(item[1]).index(dip_y)]\n",
    "    dip_err = abs(item[0][0]-item[0][-1])\n",
    "    combi = ufloat(dip_x,dip_err)\n",
    "    dips.append(combi)\n",
    "\n",
    "nst = nullstellen[0]\n",
    "diffs = []\n",
    "for i in range(len(nst)):\n",
    "    intern = dips[i]-nst[i]\n",
    "    diffs.append(intern)\n",
    "freq_unterschied = mean(diffs)\n",
    "if printt:\n",
    "    print(\"freq_unterschied\",freq_unterschied)\n",
    "\n",
    "end_freq = to_freq(freq_unterschied)\n",
    "end_freq"
   ]
  },
  {
   "cell_type": "code",
   "execution_count": 7,
   "metadata": {},
   "outputs": [],
   "source": [
    "frequs=(analysis(*data[0],20),analysis(*data[1],20),analysis(*data[2],20),end_freq,analysis(*data[4]),analysis(*data[5]))"
   ]
  },
  {
   "cell_type": "code",
   "execution_count": 8,
   "metadata": {},
   "outputs": [],
   "source": [
    "magnets = unp.uarray([461,503,474,436,447,466],1)"
   ]
  },
  {
   "cell_type": "code",
   "execution_count": 9,
   "metadata": {},
   "outputs": [],
   "source": [
    "def LRmG(x: list , y: list, u: list) -> list:\n",
    "    \"\"\"Linear Regression, weighted.\n",
    "    \n",
    "    \"\"\"\n",
    "    try:\n",
    "        u[0]\n",
    "        if (len(x) != len(y)):\n",
    "            raise LenError\n",
    "        if (len(x) != len(u)):\n",
    "            raise LenError\n",
    "        x = array(x)\n",
    "        y = array(y)\n",
    "        u = array(u)\n",
    "        g = []\n",
    "        for i in range(len(y)):\n",
    "            g.append(1 / u[i] ** 2)\n",
    "\n",
    "        a = (sum(g * (x ** 2)) * sum(g * y) - sum(g * x) * sum(g * x * y)) / (\n",
    "                    sum(g) * sum(g * (x ** 2)) - (sum(g * x) ** 2))\n",
    "\n",
    "        b = (sum(g) * sum(g * x * y) - sum(g * x) * sum(g * y)) / (sum(g) * sum(g * x ** 2) - sum(g * x) ** 2)\n",
    "\n",
    "        ua = sqrt(sum(g * x ** 2) / (sum(g) * sum(g * x ** 2) - sum(g * x) ** 2))\n",
    "\n",
    "        ub = sqrt(sum(g) / (sum(g) * sum(g * x ** 2) - sum(g * x) ** 2))\n",
    "\n",
    "        return a, b, ua, ub\n",
    "\n",
    "    except TypeError:\n",
    "        return LRmG(x, y, ones(len(y)) * u)"
   ]
  },
  {
   "cell_type": "code",
   "execution_count": 10,
   "metadata": {},
   "outputs": [],
   "source": [
    "true_freqs= array(frequs)+unp.uarray([19.0948,19.4937,18.5235,17.9994,17.5470,18.0218],0.00005)"
   ]
  },
  {
   "cell_type": "code",
   "execution_count": 11,
   "metadata": {},
   "outputs": [],
   "source": [
    "a,b,ua,ub = LRmG(val(magnets),val(true_freqs),errr(true_freqs))\n",
    "params,err = linfit_pm(val(magnets),val(true_freqs))"
   ]
  },
  {
   "cell_type": "code",
   "execution_count": 12,
   "metadata": {},
   "outputs": [
    {
     "name": "stdout",
     "output_type": "stream",
     "text": [
      "[0.024647148384668416+/-0.009954898405305541\n",
      " 6.9990957459095355+/-4.628879669548782]\n",
      "0.02464855602699656 6.999371043726408\n"
     ]
    }
   ],
   "source": [
    "print(params)\n",
    "print(b,a)"
   ]
  },
  {
   "cell_type": "raw",
   "metadata": {},
   "source": [
    "plt.errorbar(magnets, val(true_freqs),errr(true_freqs),fmt=\"x\",label=\"corrected frequencies\")\n",
    "plt.plot(np.linspace(min(magnets)-10,max(magnets)+10),line(np.linspace(min(magnets),max(magnets)),b,a),label=\"linear fit\")\n",
    "plt.legend()\n",
    "plt.show()"
   ]
  },
  {
   "cell_type": "code",
   "execution_count": 13,
   "metadata": {},
   "outputs": [
    {
     "data": {
      "text/plain": [
       "31.64624413057795+/-10.978457508007072"
      ]
     },
     "execution_count": 13,
     "metadata": {},
     "output_type": "execute_result"
    }
   ],
   "source": [
    "line(1000,*params)"
   ]
  },
  {
   "cell_type": "code",
   "execution_count": 14,
   "metadata": {},
   "outputs": [
    {
     "data": {
      "text/plain": [
       "array([0.024647148384668416+/-0.009954898405305541,\n",
       "       6.9990957459095355+/-4.628879669548782], dtype=object)"
      ]
     },
     "execution_count": 14,
     "metadata": {},
     "output_type": "execute_result"
    }
   ],
   "source": [
    "params"
   ]
  },
  {
   "cell_type": "code",
   "execution_count": 15,
   "metadata": {},
   "outputs": [
    {
     "name": "stdout",
     "output_type": "stream",
     "text": [
      "Stored 'hbar' (float)\n"
     ]
    }
   ],
   "source": [
    "hbar =  1.054571817e-34 # J S\n",
    "%store hbar"
   ]
  },
  {
   "cell_type": "code",
   "execution_count": 50,
   "metadata": {},
   "outputs": [],
   "source": [
    "gamma=params[0]*2*np.pi\n",
    "gamma2=((true_freqs*1e6)/(magnets*1e-3))*2*np.pi\n",
    "mu_k = gamma*hbar/2\n",
    "mu_k_2 = gamma2*hbar/2"
   ]
  },
  {
   "cell_type": "code",
   "execution_count": 51,
   "metadata": {},
   "outputs": [
    {
     "data": {
      "text/plain": [
       "0.15486260059442367+/-0.06254847139468127"
      ]
     },
     "execution_count": 51,
     "metadata": {},
     "output_type": "execute_result"
    }
   ],
   "source": [
    "gamma"
   ]
  },
  {
   "cell_type": "code",
   "execution_count": 52,
   "metadata": {},
   "outputs": [
    {
     "data": {
      "text/plain": [
       "8.165686704710332e-36+/-3.2980927564630774e-36"
      ]
     },
     "execution_count": 52,
     "metadata": {},
     "output_type": "execute_result"
    }
   ],
   "source": [
    "mu_k"
   ]
  },
  {
   "cell_type": "code",
   "execution_count": 55,
   "metadata": {},
   "outputs": [
    {
     "data": {
      "text/plain": [
       "array([260274403.11011666+/-569541.9200858511,\n",
       "       243527800.16964516+/-488973.51296237466,\n",
       "       245552360.48600754+/-523149.98896837176,\n",
       "       259388434.40279263+/-600308.6740666952,\n",
       "       246663027.7460017+/-557332.9567002022,\n",
       "       242998343.8354773+/-526705.2309603016], dtype=object)"
      ]
     },
     "execution_count": 55,
     "metadata": {},
     "output_type": "execute_result"
    }
   ],
   "source": [
    "gamma2"
   ]
  },
  {
   "cell_type": "code",
   "execution_count": 56,
   "metadata": {},
   "outputs": [
    {
     "data": {
      "text/plain": [
       "array([1.3723902510321308e-26+/-3.0031142876130237e-29,\n",
       "       1.284087773574578e-26+/-2.578288430148022e-29,\n",
       "       1.29476299483184e-26+/-2.758496172149529e-29,\n",
       "       1.3677186628846915e-26+/-3.1653430458568777e-29,\n",
       "       1.300619386784112e-26+/-2.938738144106573e-29,\n",
       "       1.2812960249328502e-26+/-2.777242462186049e-29], dtype=object)"
      ]
     },
     "execution_count": 56,
     "metadata": {},
     "output_type": "execute_result"
    }
   ],
   "source": [
    "mu_k_2"
   ]
  },
  {
   "cell_type": "code",
   "execution_count": 57,
   "metadata": {},
   "outputs": [],
   "source": [
    "df = pd.DataFrame(np.transpose([true_freqs,magnets,gamma2,mu_k_2]),\n",
    "                  columns=[\"Corrected resonance frequencies\",\"Measured magnetic fields\",r\"$\\gamma$\",r\"$\\mu_K$\"])"
   ]
  },
  {
   "cell_type": "code",
   "execution_count": 58,
   "metadata": {},
   "outputs": [
    {
     "data": {
      "text/html": [
       "<div>\n",
       "<style scoped>\n",
       "    .dataframe tbody tr th:only-of-type {\n",
       "        vertical-align: middle;\n",
       "    }\n",
       "\n",
       "    .dataframe tbody tr th {\n",
       "        vertical-align: top;\n",
       "    }\n",
       "\n",
       "    .dataframe thead th {\n",
       "        text-align: right;\n",
       "    }\n",
       "</style>\n",
       "<table border=\"1\" class=\"dataframe\">\n",
       "  <thead>\n",
       "    <tr style=\"text-align: right;\">\n",
       "      <th></th>\n",
       "      <th>Corrected resonance frequencies</th>\n",
       "      <th>Measured magnetic fields</th>\n",
       "      <th>$\\gamma$</th>\n",
       "      <th>$\\mu_K$</th>\n",
       "    </tr>\n",
       "  </thead>\n",
       "  <tbody>\n",
       "    <tr>\n",
       "      <td>0</td>\n",
       "      <td>19.096+/-0.006</td>\n",
       "      <td>461.0+/-1.0</td>\n",
       "      <td>(2.603+/-0.006)e+08</td>\n",
       "      <td>(1.3724+/-0.0030)e-26</td>\n",
       "    </tr>\n",
       "    <tr>\n",
       "      <td>1</td>\n",
       "      <td>19.496+/-0.005</td>\n",
       "      <td>503.0+/-1.0</td>\n",
       "      <td>(2.435+/-0.005)e+08</td>\n",
       "      <td>(1.2841+/-0.0026)e-26</td>\n",
       "    </tr>\n",
       "    <tr>\n",
       "      <td>2</td>\n",
       "      <td>18.524+/-0.006</td>\n",
       "      <td>474.0+/-1.0</td>\n",
       "      <td>(2.456+/-0.005)e+08</td>\n",
       "      <td>(1.2948+/-0.0028)e-26</td>\n",
       "    </tr>\n",
       "    <tr>\n",
       "      <td>3</td>\n",
       "      <td>17.999+/-0.006</td>\n",
       "      <td>436.0+/-1.0</td>\n",
       "      <td>(2.594+/-0.006)e+08</td>\n",
       "      <td>(1.3677+/-0.0032)e-26</td>\n",
       "    </tr>\n",
       "    <tr>\n",
       "      <td>4</td>\n",
       "      <td>17.548+/-0.006</td>\n",
       "      <td>447.0+/-1.0</td>\n",
       "      <td>(2.467+/-0.006)e+08</td>\n",
       "      <td>(1.3006+/-0.0029)e-26</td>\n",
       "    </tr>\n",
       "    <tr>\n",
       "      <td>5</td>\n",
       "      <td>18.022+/-0.006</td>\n",
       "      <td>466.0+/-1.0</td>\n",
       "      <td>(2.430+/-0.005)e+08</td>\n",
       "      <td>(1.2813+/-0.0028)e-26</td>\n",
       "    </tr>\n",
       "  </tbody>\n",
       "</table>\n",
       "</div>"
      ],
      "text/plain": [
       "  Corrected resonance frequencies Measured magnetic fields  \\\n",
       "0                  19.096+/-0.006              461.0+/-1.0   \n",
       "1                  19.496+/-0.005              503.0+/-1.0   \n",
       "2                  18.524+/-0.006              474.0+/-1.0   \n",
       "3                  17.999+/-0.006              436.0+/-1.0   \n",
       "4                  17.548+/-0.006              447.0+/-1.0   \n",
       "5                  18.022+/-0.006              466.0+/-1.0   \n",
       "\n",
       "              $\\gamma$                $\\mu_K$  \n",
       "0  (2.603+/-0.006)e+08  (1.3724+/-0.0030)e-26  \n",
       "1  (2.435+/-0.005)e+08  (1.2841+/-0.0026)e-26  \n",
       "2  (2.456+/-0.005)e+08  (1.2948+/-0.0028)e-26  \n",
       "3  (2.594+/-0.006)e+08  (1.3677+/-0.0032)e-26  \n",
       "4  (2.467+/-0.006)e+08  (1.3006+/-0.0029)e-26  \n",
       "5  (2.430+/-0.005)e+08  (1.2813+/-0.0028)e-26  "
      ]
     },
     "execution_count": 58,
     "metadata": {},
     "output_type": "execute_result"
    }
   ],
   "source": [
    "df"
   ]
  },
  {
   "cell_type": "code",
   "execution_count": 59,
   "metadata": {
    "scrolled": true
   },
   "outputs": [
    {
     "name": "stdout",
     "output_type": "stream",
     "text": [
      "\\begin{tabular}{lllll}\n",
      "\\toprule\n",
      "{} & Corrected resonance frequencies & Measured magnetic fields &             \\$\\textbackslash gamma\\$ &                \\$\\textbackslash mu\\_K\\$ \\\\\n",
      "\\midrule\n",
      "0 &                  19.096+/-0.006 &              461.0+/-1.0 &  (2.603+/-0.006)e+08 &  (1.3724+/-0.0030)e-26 \\\\\n",
      "1 &                  19.496+/-0.005 &              503.0+/-1.0 &  (2.435+/-0.005)e+08 &  (1.2841+/-0.0026)e-26 \\\\\n",
      "2 &                  18.524+/-0.006 &              474.0+/-1.0 &  (2.456+/-0.005)e+08 &  (1.2948+/-0.0028)e-26 \\\\\n",
      "3 &                  17.999+/-0.006 &              436.0+/-1.0 &  (2.594+/-0.006)e+08 &  (1.3677+/-0.0032)e-26 \\\\\n",
      "4 &                  17.548+/-0.006 &              447.0+/-1.0 &  (2.467+/-0.006)e+08 &  (1.3006+/-0.0029)e-26 \\\\\n",
      "5 &                  18.022+/-0.006 &              466.0+/-1.0 &  (2.430+/-0.005)e+08 &  (1.2813+/-0.0028)e-26 \\\\\n",
      "\\bottomrule\n",
      "\\end{tabular}\n",
      "\n"
     ]
    }
   ],
   "source": [
    "print(df.to_latex())"
   ]
  },
  {
   "cell_type": "code",
   "execution_count": 60,
   "metadata": {},
   "outputs": [
    {
     "data": {
      "image/png": "[encoded data removed]",
      "text/plain": [
       "<Figure size 720x540 with 1 Axes>"
      ]
     },
     "metadata": {
      "needs_background": "light"
     },
     "output_type": "display_data"
    }
   ],
   "source": [
    "plt.plot(val(magnets), val(true_freqs),\"x\",label=\"corrected frequencies\")\n",
    "\n",
    "plt.plot(np.linspace(min(val(magnets))-10,max(val(magnets))+10),line(np.linspace(min(val(magnets)),max(val(magnets))),b,a),label=\"linear fit\")\n",
    "plt.text(480,17.8,'Fit Information:\\n$n(\\\\Delta t)=m\\\\cdot \\\\Delta t +c $\\n\\n$m=({:.6f}\\\\pm {:.6f})$\\n$c=({:.5f}\\\\pm {:.5f})$\\n\\nResonance frequency per magnetic field:\\n{:} MHz/T'\n",
    "         .format(b,ub,a,ua,line(1000,ufloat(b,ub),ufloat(a,ua))),bbox={'facecolor':'white', 'alpha':0.8}, fontsize=10)\n",
    "#\"Resonance frequency per magnetic field:\\n{:} \\\\frac{MHz}{T}\".format(line(1000,ufloat(b,ub),ufloat(a,ua))), \n",
    "\n",
    "###   Label / Title\n",
    "\n",
    "plt.ylabel(r'$U\\,[\\mathrm{V}]$', fontsize=13)\n",
    "plt.xlabel(r'$Channel$', fontsize=13)\n",
    "plt.title('Corrected frequencies fluoride', fontsize=16)\n",
    "\n",
    "###   Axes / Grid\n",
    "\n",
    "axes = plt.gca()  ##  Searches current Axes\n",
    "\n",
    "#axes.set_xlim([0,0.8])\n",
    "#axes.set_ylim([-1,110])\n",
    "\n",
    "#axes.set_yticks([0,10,20,30,40,50,60,70,80,90,100,110])\n",
    "#axes.set_xticks([0.1,0.2,0.3,0.4,0.5,0.6,0.7,0.8])\n",
    "\n",
    "axes.grid(which='major', linestyle='-', linewidth='1', color='black')\n",
    "axes.grid(which='minor', linestyle=':', color='gray')\n",
    "axes.minorticks_on()\n",
    "\n",
    "plt.legend()\n",
    "plt.savefig('flouride.png')\n",
    "plt.show()"
   ]
  },
  {
   "cell_type": "code",
   "execution_count": 103,
   "metadata": {},
   "outputs": [],
   "source": [
    "lit = 1.328e-26"
   ]
  },
  {
   "cell_type": "code",
   "execution_count": 101,
   "metadata": {},
   "outputs": [],
   "source": [
    "def vertrag(x, ux, y):\n",
    "    \"\"\"determines, whether your value is compatible with a given value\"\"\"\n",
    "    return np.abs(x - y) / ux\n",
    "\n",
    "\n",
    "def vergl(x, ux, y, uy):\n",
    "    \"\"\"determines, whether two values are compativle\"\"\"\n",
    "    return abs(x - y) / sqrt(ux ** 2 + uy ** 2)\n"
   ]
  },
  {
   "cell_type": "code",
   "execution_count": 109,
   "metadata": {},
   "outputs": [],
   "source": [
    "comps = []\n",
    "vals = val(mu_k_2)\n",
    "errrs = errr(mu_k_2)\n",
    "for i in range(len(mu_k_2)):\n",
    "    comps.append(vertrag(vals[i],errrs[i],lit))"
   ]
  },
  {
   "cell_type": "code",
   "execution_count": 110,
   "metadata": {},
   "outputs": [],
   "source": [
    "df2 = pd.DataFrame((comps),columns=[\"compatibility\"])"
   ]
  },
  {
   "cell_type": "code",
   "execution_count": 112,
   "metadata": {
    "scrolled": true
   },
   "outputs": [
    {
     "name": "stdout",
     "output_type": "stream",
     "text": [
      "\\begin{tabular}{lr}\n",
      "\\toprule\n",
      "{} &  compatibility \\\\\n",
      "\\midrule\n",
      "0 &      14.781406 \\\\\n",
      "1 &      17.031542 \\\\\n",
      "2 &      12.048958 \\\\\n",
      "3 &      12.547981 \\\\\n",
      "4 &       9.317133 \\\\\n",
      "5 &      16.816672 \\\\\n",
      "\\bottomrule\n",
      "\\end{tabular}\n",
      "\n"
     ]
    }
   ],
   "source": [
    "print(df2.to_latex())"
   ]
  }
 ],
 "metadata": {
  "kernelspec": {
   "display_name": "Python 3",
   "language": "python",
   "name": "python3"
  },
  "language_info": {
   "codemirror_mode": {
    "name": "ipython",
    "version": 3
   },
   "file_extension": ".py",
   "mimetype": "text/x-python",
   "name": "python",
   "nbconvert_exporter": "python",
   "pygments_lexer": "ipython3",
   "version": "3.7.4"
  }
 },
 "nbformat": 4,
 "nbformat_minor": 2
}
