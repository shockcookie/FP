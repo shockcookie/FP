{
 "cells": [
  {
   "cell_type": "code",
   "execution_count": 1,
   "metadata": {},
   "outputs": [
    {
     "name": "stdout",
     "output_type": "stream",
     "text": [
      "Populating the interactive namespace from numpy and matplotlib\n"
     ]
    }
   ],
   "source": [
    "%pylab inline\n",
    "import ThonkTools as TT\n",
    "from uncertainties import unumpy as unp\n",
    "from uncertainties import ufloat\n",
    "from scipy import interpolate\n",
    "from scipy.optimize import curve_fit"
   ]
  },
  {
   "cell_type": "code",
   "execution_count": 2,
   "metadata": {},
   "outputs": [],
   "source": [
    "def csvReader(x):\n",
    "    \"\"\"\n",
    "        csvReader takes a csv file and creats a list with lists of the colloms.\n",
    "        It also turns strings into numbers if possible.\n",
    "    \"\"\"\n",
    "    import csv\n",
    "    with open(x, 'r') as csvFile:\n",
    "        reader = csv.reader(csvFile)\n",
    "        l = None\n",
    "        for row in reader:\n",
    "            if l == None:\n",
    "                l = [[] for i in range(len(row))]\n",
    "                for i in range(len(l)):\n",
    "                    try:\n",
    "                        try:\n",
    "                            l[i].append(float(row[i]))\n",
    "                        except:\n",
    "                            l[i].append(row[i])\n",
    "                    except:\n",
    "                        None\n",
    "            else:\n",
    "                for i in range(len(l)):\n",
    "                    try:\n",
    "                        try:\n",
    "                            l[i].append(float(row[i]))\n",
    "                        except:\n",
    "                            l[i].append(row[i])\n",
    "                    except:\n",
    "                        None\n",
    "    return l    \n",
    "    csvFile.close()"
   ]
  },
  {
   "cell_type": "code",
   "execution_count": null,
   "metadata": {},
   "outputs": [],
   "source": []
  }
 ],
 "metadata": {
  "kernelspec": {
   "display_name": "Python 3",
   "language": "python",
   "name": "python3"
  },
  "language_info": {
   "codemirror_mode": {
    "name": "ipython",
    "version": 3
   },
   "file_extension": ".py",
   "mimetype": "text/x-python",
   "name": "python",
   "nbconvert_exporter": "python",
   "pygments_lexer": "ipython3",
   "version": "3.6.4"
  }
 },
 "nbformat": 4,
 "nbformat_minor": 2
}
