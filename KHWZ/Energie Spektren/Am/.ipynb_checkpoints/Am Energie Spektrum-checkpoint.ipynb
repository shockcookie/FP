{
 "cells": [
  {
   "cell_type": "code",
   "execution_count": 1,
   "metadata": {},
   "outputs": [
    {
     "name": "stdout",
     "output_type": "stream",
     "text": [
      "Populating the interactive namespace from numpy and matplotlib\n"
     ]
    }
   ],
   "source": [
    "%pylab inline"
   ]
  },
  {
   "cell_type": "code",
   "execution_count": 2,
   "metadata": {},
   "outputs": [],
   "source": [
    "# Daten einlesen\n",
    "def read (path,offset=2, *kwargs):\n",
    "    from numpy import array as array\n",
    "    doc = []\n",
    "    with open (path, 'r') as myfile:\n",
    "        data = myfile.read().replace(',', '.').replace('\\n', ',').replace('  ', ',').replace(\"\\t\",\",\")\n",
    "        datarray = data.split(',')\n",
    "        output = []\n",
    "    for item in datarray:\n",
    "        if item != '':\n",
    "            output.append(int(item))\n",
    "    dataset = array(output[offset:])\n",
    "    dataset = [array(range(len(dataset))), dataset]\n",
    "    return dataset"
   ]
  },
  {
   "cell_type": "code",
   "execution_count": 11,
   "metadata": {},
   "outputs": [],
   "source": [
    "am_1 = read(\"Am_2_2.TKA\")\n",
    "am_2 = read(\"Am_1.TKA\")\n",
    "am_1_1 = am_1[0]\n",
    "am_1_2 = am_1[1]"
   ]
  },
  {
   "cell_type": "code",
   "execution_count": 10,
   "metadata": {},
   "outputs": [],
   "source": [
    "### FigureSize\n",
    "\n",
    "fig_size = plt.rcParams[\"figure.figsize\"]\n",
    "fig_size[0] = 10\n",
    "fig_size[1] = 7.5\n",
    "plt.rcParams[\"figure.figsize\"] = fig_size\n",
    "\n",
    "###   Errors / Fit / Plot\n",
    "\n",
    "plt.plot()\n",
    "\n",
    "###   Label / Title\n",
    "\n",
    "plt.xlabel(r'$U_\\mathrm{BE}\\,[\\mathrm{V}]$', fontsize=13)\n",
    "plt.ylabel(r'$I_\\mathrm{B}\\,[\\mathrm{µA}]$', fontsize=13)\n",
    "plt.title('Titel', fontsize=20)\n",
    "\n",
    "###   Axes / Grid\n",
    "\n",
    "axes = plt.gca()  ##  Searches current Axes\n",
    "\n",
    "#axes.set_xlim([0,0.8])\n",
    "#axes.set_ylim([-1,110])\n",
    "\n",
    "#axes.set_yticks([0,10,20,30,40,50,60,70,80,90,100,110])\n",
    "#axes.set_xticks([0.1,0.2,0.3,0.4,0.5,0.6,0.7,0.8])\n",
    "\n",
    "axes.grid(which='major', linestyle='-', linewidth='1', color='black')\n",
    "axes.grid(which='minor', linestyle=':', color='gray')\n",
    "axes.minorticks_on()\n",
    "\n",
    "plt.legend()\n",
    "#plt.savefig('Dateiname.png')\n",
    "plt.show()"
   ]
  },
  {
   "cell_type": "code",
   "execution_count": null,
   "metadata": {},
   "outputs": [],
   "source": []
  }
 ],
 "metadata": {
  "kernelspec": {
   "display_name": "Python 3",
   "language": "python",
   "name": "python3"
  },
  "language_info": {
   "codemirror_mode": {
    "name": "ipython",
    "version": 3
   },
   "file_extension": ".py",
   "mimetype": "text/x-python",
   "name": "python",
   "nbconvert_exporter": "python",
   "pygments_lexer": "ipython3",
   "version": "3.6.4"
  }
 },
 "nbformat": 4,
 "nbformat_minor": 2
}
