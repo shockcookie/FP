{
 "cells": [
  {
   "cell_type": "code",
   "execution_count": 6,
   "metadata": {},
   "outputs": [],
   "source": [
    "def vertrag(x, ux, y):\n",
    "    \"\"\"determines, whether your value is compatible with a given value\"\"\"\n",
    "    return abs(x - y) / ux\n",
    "def vergl(x, ux, y, uy):\n",
    "    \"\"\"determines, whether two values are compativle\"\"\"\n",
    "    from math import sqrt as sqrt\n",
    "    return abs(x - y) / sqrt(ux ** 2 + uy ** 2)"
   ]
  },
  {
   "cell_type": "code",
   "execution_count": 4,
   "metadata": {},
   "outputs": [],
   "source": [
    "abkl_1=[(1.224e-07,0.022e-07),(1.222e-7,0.020e-7)]\n",
    "abkl_2=[(1.166e-7,0.017e-07),(1.181e-7,0.018e-07)]\n",
    "erw = (1.028e-7,0.013e-7)\n",
    "lit = 1.19e-7"
   ]
  },
  {
   "cell_type": "code",
   "execution_count": 27,
   "metadata": {},
   "outputs": [],
   "source": [
    "data=[(1.224e-07,0.022e-07),(1.222e-7,0.020e-7),(1.166e-7,0.017e-07),(1.181e-7,0.018e-07),(1.028e-7,0.013e-7)]\n",
    "intern=[]\n",
    "for item1 in data:\n",
    "    intern2 = []\n",
    "    for item2 in data:\n",
    "        intern2.append(vergl(item1[0],item1[1],item2[0],item2[1]))\n",
    "    intern.append(intern2)\n",
    "vertrage=[]\n",
    "for item in data:\n",
    "    vertrage.append(vertrag(item[0],item[1],lit))"
   ]
  },
  {
   "cell_type": "code",
   "execution_count": 25,
   "metadata": {},
   "outputs": [
    {
     "data": {
      "text/plain": [
       "[[0.0,\n",
       "  0.0672672793996363,\n",
       "  2.086115003670263,\n",
       "  1.5127347211701294,\n",
       "  7.670072705909364],\n",
       " [0.0672672793996363,\n",
       "  0.0,\n",
       "  2.133430089726485,\n",
       "  1.5237529998066874,\n",
       "  8.13290307811618],\n",
       " [2.086115003670263,\n",
       "  2.133430089726485,\n",
       "  0.0,\n",
       "  0.6058442937915173,\n",
       "  6.448316526520771],\n",
       " [1.5127347211701294,\n",
       "  1.5237529998066874,\n",
       "  0.6058442937915173,\n",
       "  0.0,\n",
       "  6.890773441398993],\n",
       " [7.670072705909364,\n",
       "  8.13290307811618,\n",
       "  6.448316526520771,\n",
       "  6.890773441398993,\n",
       "  0.0]]"
      ]
     },
     "execution_count": 25,
     "metadata": {},
     "output_type": "execute_result"
    }
   ],
   "source": [
    "intern"
   ]
  },
  {
   "cell_type": "code",
   "execution_count": 30,
   "metadata": {},
   "outputs": [
    {
     "name": "stdout",
     "output_type": "stream",
     "text": [
      "1.5,1.6,1.4,0.5,12.5\n"
     ]
    }
   ],
   "source": [
    "print(\"{:.1f},{:.1f},{:.1f},{:.1f},{:.1f}\".format(*vertrage))"
   ]
  },
  {
   "cell_type": "code",
   "execution_count": 22,
   "metadata": {},
   "outputs": [
    {
     "name": "stdout",
     "output_type": "stream",
     "text": [
      "Verträglichkeit  0° erste Abkühlung und 90° erste  Abkühlung: 0.07\n",
      "Verträglichkeit  0° erste Abkühlung und 90° zweite Abkühlung: 0.61\n",
      "Verträglichkeit  0° erste Abkühlung und  0° zweite Abkühlung: 2.09\n",
      "Verträglichkeit  0° erste Abkühlung und 90° zweite Abkühlung: 1.51\n",
      "Verträglichkeit 90° erste Abkühlung und  0° zweite Abkühlung: 2.13\n",
      "Verträglichkeit 90° erste Abkühlung und 90° zweite Abkühlung: 1.52\n",
      "Verträglichkeit 0° zweite Abkühlung und 90° zweite Abkühlung: 0.61\n"
     ]
    }
   ],
   "source": [
    "print(\"Verträglichkeit  0° erste Abkühlung und 90° erste  Abkühlung: {:.2f}\".format(vergl(*abkl_1[0],*abkl_1[1])))\n",
    "print(\"Verträglichkeit  0° erste Abkühlung und 90° zweite Abkühlung: {:.2f}\".format(vergl(*abkl_2[0],*abkl_2[1])))\n",
    "print(\"Verträglichkeit  0° erste Abkühlung und  0° zweite Abkühlung: {:.2f}\".format(vergl(*abkl_1[0],*abkl_2[0])))\n",
    "print(\"Verträglichkeit  0° erste Abkühlung und 90° zweite Abkühlung: {:.2f}\".format(vergl(*abkl_1[0],*abkl_2[1])))\n",
    "print(\"Verträglichkeit 90° erste Abkühlung und  0° zweite Abkühlung: {:.2f}\".format(vergl(*abkl_1[1],*abkl_2[0])))\n",
    "print(\"Verträglichkeit 90° erste Abkühlung und 90° zweite Abkühlung: {:.2f}\".format(vergl(*abkl_1[1],*abkl_2[1])))\n",
    "print(\"Verträglichkeit 0° zweite Abkühlung und 90° zweite Abkühlung: {:.2f}\".format(vergl(*abkl_2[0],*abkl_2[1])))\n"
   ]
  }
 ],
 "metadata": {
  "kernelspec": {
   "display_name": "Python 3",
   "language": "python",
   "name": "python3"
  },
  "language_info": {
   "codemirror_mode": {
    "name": "ipython",
    "version": 3
   },
   "file_extension": ".py",
   "mimetype": "text/x-python",
   "name": "python",
   "nbconvert_exporter": "python",
   "pygments_lexer": "ipython3",
   "version": "3.7.4"
  }
 },
 "nbformat": 4,
 "nbformat_minor": 2
}
