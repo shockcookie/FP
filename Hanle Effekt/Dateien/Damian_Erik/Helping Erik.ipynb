{
 "cells": [
  {
   "cell_type": "code",
   "execution_count": 2,
   "metadata": {},
   "outputs": [
    {
     "name": "stdout",
     "output_type": "stream",
     "text": [
      "Populating the interactive namespace from numpy and matplotlib\n"
     ]
    }
   ],
   "source": [
    "%pylab inline\n",
    "import ThonkTools as TT\n",
    "from uncertainties import unumpy as unp\n",
    "from uncertainties import ufloat\n",
    "from scipy import interpolate\n",
    "from scipy.optimize import curve_fit"
   ]
  },
  {
   "cell_type": "markdown",
   "metadata": {},
   "source": [
    "# Temperatur zu Druck Stuff\n"
   ]
  },
  {
   "cell_type": "code",
   "execution_count": 38,
   "metadata": {},
   "outputs": [],
   "source": [
    "def T_p(x):   #Konstanten als Fehlerlos angenommen wie suggested in anleitung\n",
    "    x = x + 273.15\n",
    "    T_c = 1764\n",
    "    p_c = 1.67 * 10**5\n",
    "    Tr = 1-(x/T_c)\n",
    "    a1 = -4.57618368\n",
    "    a2 = -1.40726277\n",
    "    a3 = 2.36263541\n",
    "    a4 = -31.0889985\n",
    "    a5 = 58.0183959\n",
    "    a6 = -27.6304546\n",
    "    p = (  (T_c/x) * (a1*Tr + a2*Tr**1.89 + a3*Tr**2 + a4*Tr**8 + a5*Tr**8.5 + a6*Tr**9)  )\n",
    "    p2 = e**(p)*p_c*10**6\n",
    "    return p2"
   ]
  },
  {
   "cell_type": "code",
   "execution_count": 41,
   "metadata": {},
   "outputs": [
    {
     "data": {
      "text/plain": [
       "5.575552116108707"
      ]
     },
     "execution_count": 41,
     "metadata": {},
     "output_type": "execute_result"
    }
   ],
   "source": [
    "def T_p(x):   #Konstanten als Fehlerlos angenommen wie suggested in anleitung\n",
    "    x = x + 273.15\n",
    "    T_c = 1764\n",
    "    p_c = 1.67 * 10**5\n",
    "    Tr = 1-(x/T_c)\n",
    "    a1 = -4.57618368\n",
    "    a2 = -1.40726277\n",
    "    a3 = 2.36263541\n",
    "    a4 = -31.0889985\n",
    "    a5 = 58.0183959\n",
    "    a6 = -27.6304546\n",
    "    p = (  (T_c/x) * (a1*Tr + a2*Tr**1.89 + a3*Tr**2 + a4*Tr**8 + a5*Tr**8.5 + a6*Tr**9)  )\n",
    "    p2 = e**(p)*p_c*10**6\n",
    "    return p2"
   ]
  },
  {
   "cell_type": "code",
   "execution_count": null,
   "metadata": {},
   "outputs": [],
   "source": [
    "def T_p(x):   #Konstanten als Fehlerlos angenommen wie suggested in anleitung\n",
    "    x = x + 273.15\n",
    "    T_c = 1764\n",
    "    p_c = 1.67 * 10**5\n",
    "    Tr = 1-(x/T_c)\n",
    "    a1 = -4.57618368\n",
    "    a2 = -1.40726277\n",
    "    a3 = 2.36263541\n",
    "    a4 = -31.0889985\n",
    "    a5 = 58.0183959\n",
    "    a6 = -27.6304546\n",
    "    p = (  (T_c/x) * (a1*Tr + a2*Tr**1.89 + a3*Tr**2 + a4*Tr**8 + a5*Tr**8.5 + a6*Tr**9)  )\n",
    "    p2 = e**(p)*p_c*10**6\n",
    "    return p2"
   ]
  }
 ],
 "metadata": {
  "kernelspec": {
   "display_name": "Python 3",
   "language": "python",
   "name": "python3"
  },
  "language_info": {
   "codemirror_mode": {
    "name": "ipython",
    "version": 3
   },
   "file_extension": ".py",
   "mimetype": "text/x-python",
   "name": "python",
   "nbconvert_exporter": "python",
   "pygments_lexer": "ipython3",
   "version": "3.6.4"
  }
 },
 "nbformat": 4,
 "nbformat_minor": 2
}
