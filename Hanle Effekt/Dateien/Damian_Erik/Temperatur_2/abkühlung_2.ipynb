{
 "cells": [
  {
   "cell_type": "code",
   "execution_count": 55,
   "metadata": {},
   "outputs": [
    {
     "name": "stdout",
     "output_type": "stream",
     "text": [
      "Populating the interactive namespace from numpy and matplotlib\n"
     ]
    },
    {
     "name": "stderr",
     "output_type": "stream",
     "text": [
      "c:\\users\\erik_\\appdata\\local\\programs\\python\\python37\\lib\\site-packages\\IPython\\core\\magics\\pylab.py:160: UserWarning: pylab import has clobbered these variables: ['axes']\n",
      "`%matplotlib` prevents importing * from pylab and numpy\n",
      "  \"\\n`%matplotlib` prevents importing * from pylab and numpy\"\n"
     ]
    }
   ],
   "source": [
    "%pylab inline\n",
    "#import matplotlib as plt\n",
    "#import numpy as np\n",
    "import pandas as pd\n",
    "import uncertainties\n",
    "from uncertainties import unumpy as unp\n",
    "from uncertainties import ufloat\n",
    "\n",
    "def gaussian(x, mu, sigma, B, A):\n",
    "    return A * np.e ** ((-1 * (x - mu) ** 2) / (2 * sigma ** 2)) + B\n",
    "\n",
    "def gausfit_pm(x, y, p0=None):\n",
    "    import numpy as np\n",
    "    return fit_pm(x, y, func=lambda x, mu, sigma, B, A: A * np.e ** ((-1 * (x - mu) ** 2) / (2 * sigma ** 2)) + B,\n",
    "                  p0=p0)\n",
    "\n",
    "def lorentz(x, x_0, gamma, a, d):\n",
    "    return a * 1/(1 + ((x - x_0)/gamma)**2) + d\n",
    "def lorentzfit_pm(x, y, p0=None):\n",
    "    import numpy as np\n",
    "    return fit_pm(x, y, func=lambda x, x_0, gamma, a, d: a * 1/(1 + ((x - x_0)/gamma)**2) + d,p0=p0)\n",
    "\n",
    "def line(x,a,b):\n",
    "    return a * array(x) + b\n",
    "\n",
    "def linfit_pm(x, y, p0=None):\n",
    "    return fit_pm(x, y, func=lambda x, a, b,: a * x + b, p0=p0)\n",
    "\n",
    "\n",
    "def fit_pm(x, y, func=lambda x: x, p0=None):\n",
    "    \"\"\"\n",
    "        fit_pm takes data points and makes an exponential curve fit. It returns\n",
    "        the parameters with errors and the coefficient of determination\n",
    "        Parameters:\n",
    "        -----------\n",
    "        x: x-value of the data points.\n",
    "        y: y-value of the data points.\n",
    "        func: Function to be fitted to.\n",
    "        Returns:\n",
    "        -----------\n",
    "        list: Gives back a list with the parameters of an expotential function the\n",
    "              corresponding errors and the coefficient of determination.\n",
    "    \"\"\"\n",
    "    from scipy.optimize import curve_fit\n",
    "    import numpy as np\n",
    "    popt, pcov = curve_fit(func, x, y, p0=p0)\n",
    "    params = popt.copy()\n",
    "    errors = np.sqrt(np.diag(pcov))\n",
    "    r = np.array(y) - func(np.array(x), *params)\n",
    "    rss = np.sum(r ** 2)\n",
    "    tss = np.sum((y - np.mean(y)) ** 2)\n",
    "    R_2 = 1 - (rss / tss)\n",
    "    try:\n",
    "        from uncertainties import unumpy as unp\n",
    "        return unp.uarray(params, errors), R_2\n",
    "    except:\n",
    "        return np.array(params), np.array(errors), R_2\n",
    "\n",
    "\n",
    "def val(x):\n",
    "    from uncertainties import unumpy\n",
    "    try:\n",
    "        return unumpy.nominal_values(x)\n",
    "    except TypeError:\n",
    "        return x\n",
    "\n",
    "\n",
    "def err(x):\n",
    "    from uncertainties import unumpy\n",
    "    return unumpy.std_devs(x)\n",
    "\n",
    "def LRmG(x: list , y: list, u: list) -> list:\n",
    "    \"\"\"Linear Regression, weighted.\n",
    "    \n",
    "    \"\"\"\n",
    "    try:\n",
    "        u[0]\n",
    "        if (len(x) != len(y)):\n",
    "            raise LenError\n",
    "        if (len(x) != len(u)):\n",
    "            raise LenError\n",
    "        x = array(x)\n",
    "        y = array(y)\n",
    "        u = array(u)\n",
    "        g = []\n",
    "        for i in range(len(y)):\n",
    "            g.append(1 / u[i] ** 2)\n",
    "\n",
    "        a = (sum(g * (x ** 2)) * sum(g * y) - sum(g * x) * sum(g * x * y)) / (\n",
    "                    sum(g) * sum(g * (x ** 2)) - (sum(g * x) ** 2))\n",
    "\n",
    "        b = (sum(g) * sum(g * x * y) - sum(g * x) * sum(g * y)) / (sum(g) * sum(g * x ** 2) - sum(g * x) ** 2)\n",
    "\n",
    "        ua = sqrt(sum(g * x ** 2) / (sum(g) * sum(g * x ** 2) - sum(g * x) ** 2))\n",
    "\n",
    "        ub = sqrt(sum(g) / (sum(g) * sum(g * x ** 2) - sum(g * x) ** 2))\n",
    "\n",
    "        return a, b, ua, ub\n",
    "\n",
    "    except TypeError:\n",
    "        return LRmG(x, y, ones(len(y)) * u)\n"
   ]
  },
  {
   "cell_type": "code",
   "execution_count": 20,
   "metadata": {},
   "outputs": [],
   "source": [
    "def analysis(filename,plots=False,save=False,values=False, printt=False,force_ori=(False,0),**kwargs):\n",
    "    def linfitter(x,y):\n",
    "        itera = 0\n",
    "        start = 0\n",
    "        stop = 0\n",
    "        lastval = 0\n",
    "        trigger = False\n",
    "        for item in y:\n",
    "            if (lastval-item) > 1:  # rampe primed\n",
    "                trigger = True\n",
    "            if trigger and item > -1 and start == 0: # startwert für sauberen fit\n",
    "                start = itera\n",
    "            if trigger and item > 1:  #  endwert sauberer fit\n",
    "                stop = itera\n",
    "                break\n",
    "            itera += 1\n",
    "            lastval = item\n",
    "        return linfit_pm(x[start:stop],y[start:stop])\n",
    "\n",
    "\n",
    "    def lorenzer(x,y):\n",
    "        if force_ori[0]:\n",
    "            if force_ori[1]==0:\n",
    "                if plots:\n",
    "                    print(\"0 deg\")\n",
    "                return lorentzfit_pm(x,y,p0 = (x[list(y).index(max(y))],1e-5,max(y)-y[0],y[0]))\n",
    "            if force_ori[1]==90:\n",
    "                if plots:\n",
    "                    print(\"90 deg\")\n",
    "                return lorentzfit_pm(x,y,p0 = (x[list(y).index(min(y))],1e-5,min(y)-y[0],y[0]))\n",
    "        if abs(abs(y[0])+abs(max(y)))>abs(abs(y[0])-abs(min(y))):  # 0°-> peak über start\n",
    "            if plots:\n",
    "                print(\"0 deg\")\n",
    "            return lorentzfit_pm(x,y,p0 = (x[list(y).index(max(y))],1e-5,max(y)-y[0],y[0]))\n",
    "        if abs(y[0]+max(y))<abs(y[0]-min(y)):  # 90° -> peak unter start\n",
    "            if plots:\n",
    "                print(\"90 deg\")\n",
    "            return lorentzfit_pm(x,y,p0 = (x[list(y).index(min(y))],1e-5,min(y)-y[0],y[0]))\n",
    "\n",
    "\n",
    "    # konstanten\n",
    "    k = 3.363e-4\n",
    "    gJ = 1.4838\n",
    "    muB = 9.274009e-24\n",
    "    hb = 1.0546e-34\n",
    "    gamma_stat = 6.075938865802572e-07\n",
    "    \n",
    "    # daten einlesen, in arrays umwandeln\n",
    "    df = pd.read_csv(filename)  # einlesen\n",
    "    time = df.iloc[0:,0].to_numpy()  # zeit\n",
    "    ch1 = df.iloc[0:,1].to_numpy()  # signal\n",
    "    ch2 = df.iloc[0:,2].to_numpy()  # magnetfeld\n",
    "    if plots:\n",
    "        #nice plot\n",
    "        ### FigureSize\n",
    "\n",
    "        fig_size = plt.rcParams[\"figure.figsize\"]\n",
    "        fig_size[0] = 10\n",
    "        fig_size[1] = 7.5\n",
    "        plt.rcParams[\"figure.figsize\"] = fig_size\n",
    "\n",
    "        ###   Errors / Fit / Plot\n",
    "\n",
    "        plt.plot(time,ch1,label=\"Photomultiplier\")\n",
    "        plt.plot(time,ch2,label=\"Magnetfeld\")\n",
    "        #plt.plot(time_90,lorentz(time_90,*val(lor_params)),label=\"Lorentzfit\")\n",
    "\n",
    "\n",
    "\n",
    "        ###   Label / Title\n",
    "\n",
    "        plt.ylabel(r'$U\\,[\\mathrm{V}]$', fontsize=13)\n",
    "        plt.xlabel(r'Zeit $\\left[s\\right]$', fontsize=13)\n",
    "        plt.title(filename, fontsize=20)\n",
    "\n",
    "        ###   Axes / Grid\n",
    "\n",
    "        axes = plt.gca()  ##  Searches current Axes\n",
    "\n",
    "        #axes.set_xlim([0,0.8])\n",
    "        #axes.set_ylim([-1,110])\n",
    "\n",
    "        #axes.set_yticks([0,10,20,30,40,50,60,70,80,90,100,110])\n",
    "        #axes.set_xticks([0.1,0.2,0.3,0.4,0.5,0.6,0.7,0.8])\n",
    "\n",
    "        axes.grid(which='major', linestyle='-', linewidth='1', color='black')\n",
    "        axes.grid(which='minor', linestyle=':', color='gray')\n",
    "        axes.minorticks_on()\n",
    "\n",
    "        plt.legend()\n",
    "        if save:\n",
    "            \n",
    "            plt.savefig(filename[-4]+\"_raw\"+\".png\")\n",
    "        plt.show()\n",
    "        \n",
    "    # B(t) bestimmen\n",
    "    lin_params ,lin_r_2 = linfitter(time,ch2) # linfit\n",
    "    (a,b) = lin_params\n",
    "    if printt:\n",
    "        print(\"line params\",a,b,\"\\n\")\n",
    "    B = (a*time+b)*k\n",
    "    if printt:\n",
    "        print(\"B\",B,\"\\n\")\n",
    "    # fit B(t) signal\n",
    "    lor_params,lor_r_2 = lorenzer(val(B),ch1)\n",
    "    if printt:\n",
    "        print(\"lor params\",lor_params,\"\\n\")\n",
    "    x_0, gamma, a, d = lor_params\n",
    "    \n",
    "    if plots:\n",
    "        #nice plot\n",
    "        ### FigureSize\n",
    "\n",
    "        fig_size = plt.rcParams[\"figure.figsize\"]\n",
    "        fig_size[0] = 10\n",
    "        fig_size[1] = 7.5\n",
    "        plt.rcParams[\"figure.figsize\"] = fig_size\n",
    "\n",
    "        ###   Errors / Fit / Plot\n",
    "\n",
    "        plt.plot(val(B),ch1,label=\"Photomultiplier\")\n",
    "        #plt.plot(val(B),ch2_90,label=\"Magnetfeld\")\n",
    "        plt.plot(val(B),lorentz(val(B),*val(lor_params)),label=\"Lorentzfit\")\n",
    "\n",
    "\n",
    "\n",
    "        ###   Label / Title\n",
    "\n",
    "        plt.ylabel(r'$U\\,[\\mathrm{V}]$', fontsize=13)\n",
    "        plt.xlabel(r'Magnetfeld $\\left[T\\right]$', fontsize=13)\n",
    "        plt.title(filename, fontsize=20)\n",
    "\n",
    "        ###   Axes / Grid\n",
    "\n",
    "        axes = plt.gca()  ##  Searches current Axes\n",
    "\n",
    "        #axes.set_xlim([0,0.8])\n",
    "        #axes.set_ylim([-1,110])\n",
    "\n",
    "        #axes.set_yticks([0,10,20,30,40,50,60,70,80,90,100,110])\n",
    "        #axes.set_xticks([0.1,0.2,0.3,0.4,0.5,0.6,0.7,0.8])\n",
    "\n",
    "        axes.grid(which='major', linestyle='-', linewidth='1', color='black')\n",
    "        axes.grid(which='minor', linestyle=':', color='gray')\n",
    "        axes.minorticks_on()\n",
    "\n",
    "        plt.legend()\n",
    "        if save:\n",
    "            plt.savefig(filename[:-4]+\"_lorenz\"+'.png')\n",
    "        plt.show()\n",
    "    \n",
    "    gamma = ufloat(val(gamma),\n",
    "                   np.sqrt(err(gamma)**2+gamma_stat**2)\n",
    "                  )\n",
    "    FWHM = 2*gamma\n",
    "    if printt:\n",
    "        print(FWHM)\n",
    "    # tau berechnen\n",
    "    tau = hb/(gJ*muB*FWHM)\n",
    "    if values:\n",
    "        return tau,[lin_params,lor_params]\n",
    "    else: return tau"
   ]
  },
  {
   "cell_type": "code",
   "execution_count": 21,
   "metadata": {},
   "outputs": [],
   "source": [
    "def T_p(x):   #Konstanten als Fehlerlos angenommen wie suggested in anleitung\n",
    "    x = x + 273.15\n",
    "    T_c = 1764\n",
    "    p_c = 1.67 * 10**5\n",
    "    Tr = 1-(x/T_c)\n",
    "    a1 = -4.57618368\n",
    "    a2 = -1.40726277\n",
    "    a3 = 2.36263541\n",
    "    a4 = -31.0889985\n",
    "    a5 = 58.0183959\n",
    "    a6 = -27.6304546\n",
    "    p = (  (T_c/x) * (a1*Tr + a2*Tr**1.89 + a3*Tr**2 + a4*Tr**8 + a5*Tr**8.5 + a6*Tr**9)  )\n",
    "    p2 = e**(p)*p_c*10**6\n",
    "    return p2"
   ]
  },
  {
   "cell_type": "code",
   "execution_count": 22,
   "metadata": {},
   "outputs": [],
   "source": [
    "filename_r=\"_HM1508.csv\"\n",
    "temps = unp.uarray([19,19,10,10,5,5,1,1,-7,-8,-17,-17],0.5)\n",
    "temps_0=temps[0::2]\n",
    "temps_90=temps[1::2]\n",
    "filename_l=[\"0_1\",\"0_2\",\"0_3\",\"0_4\",\"0_6\",\"0_7\"],[\"90_1\",\"90_2\",\"90_3\",\"90_5\",\"90_6\",\"90_7\"]"
   ]
  },
  {
   "cell_type": "code",
   "execution_count": 23,
   "metadata": {},
   "outputs": [
    {
     "name": "stdout",
     "output_type": "stream",
     "text": [
      "[19.0+/-0.5 10.0+/-0.5 5.0+/-0.5 1.0+/-0.5 -7.0+/-0.5 -17.0+/-0.5]\n"
     ]
    },
    {
     "data": {
      "text/plain": [
       "6"
      ]
     },
     "execution_count": 23,
     "metadata": {},
     "output_type": "execute_result"
    }
   ],
   "source": [
    "print(temps_0)\n",
    "len(temps_90)"
   ]
  },
  {
   "cell_type": "code",
   "execution_count": 24,
   "metadata": {
    "scrolled": true
   },
   "outputs": [
    {
     "name": "stdout",
     "output_type": "stream",
     "text": [
      "19.0+/-0.5 19.0+/-0.5 0_1_HM1508.csv 90_1_HM1508.csv\n",
      "157+/-7 (1.33+/-0.04)e-07\n",
      "10.0+/-0.5 10.0+/-0.5 0_2_HM1508.csv 90_2_HM1508.csv\n",
      "70.3+/-3.2 (1.149+/-0.027)e-07\n",
      "5.0+/-0.5 5.0+/-0.5 0_3_HM1508.csv 90_3_HM1508.csv\n",
      "43.9+/-2.1 (1.245+/-0.026)e-07\n",
      "1.0+/-0.5 1.0+/-0.5 0_4_HM1508.csv 90_5_HM1508.csv\n",
      "29.8+/-1.5 (1.176+/-0.024)e-07\n",
      "-7.0+/-0.5 -8.0+/-0.5 0_6_HM1508.csv 90_6_HM1508.csv\n",
      "13.2+/-0.7 (1.38+/-0.06)e-07\n",
      "-17.0+/-0.5 -17.0+/-0.5 0_7_HM1508.csv 90_7_HM1508.csv\n",
      "4.45+/-0.25 (1.158+/-0.022)e-07\n"
     ]
    }
   ],
   "source": [
    "abk_points_0=[[],[]]\n",
    "abk_points_90=[[],[]]\n",
    "\n",
    "for i in range(6):\n",
    "    temp_0 = temps_0[i]\n",
    "    temp_90 = temps_90[i]\n",
    "    file_0 = filename_l[0][i]+filename_r\n",
    "    file_90 = filename_l[1][i]+filename_r\n",
    "    print(temp_0,temp_90,file_0,file_90)\n",
    "    \n",
    "    pres_0 = T_p(temp_0)\n",
    "    abk_points_0[0].append(pres_0)\n",
    "    \n",
    "    abk_points_90[0].append(T_p(temp_90))\n",
    "    \n",
    "    tau_0=analysis(file_0,plots=0,printt=0,force_ori=(1,0))\n",
    "    abk_points_0[1].append(tau_0)    \n",
    "    \n",
    "    abk_points_90[1].append(analysis(file_90,plots=0,printt=0,force_ori=(1,90)))\n",
    "    print(pres_0,tau_0)"
   ]
  },
  {
   "cell_type": "markdown",
   "metadata": {},
   "source": [
    "abk1_params,abk1_err = linfit_pm(val(abk_points_0[0]),val(abk_points_0[1]))\n",
    "abk2_params,abk1_err = linfit_pm(val(abk_points_90[0][1:]),val(abk_points_90[1][1:]))"
   ]
  },
  {
   "cell_type": "code",
   "execution_count": 56,
   "metadata": {},
   "outputs": [],
   "source": [
    "a,b,ua,ub=LRmG(val(abk_points_0[0]),val(abk_points_0[1]),err(abk_points_0[1]))\n",
    "abk1_params = ufloat(b,ub),ufloat(a,ua)\n",
    "a,b,ua,ub = LRmG(val(abk_points_90[0][1:]),val(abk_points_90[1][1:]),err(abk_points_90[1][1:]))\n",
    "abk2_params = ufloat(b,ub),ufloat(a,ua)"
   ]
  },
  {
   "cell_type": "code",
   "execution_count": 58,
   "metadata": {},
   "outputs": [
    {
     "name": "stdout",
     "output_type": "stream",
     "text": [
      "Abkühlung 2\n",
      "0° Params\n",
      "(8.2+/-2.7)e-11\n",
      "(1.166+/-0.017)e-07\n",
      "90° Params\n",
      "(1.7+/-0.5)e-10\n",
      "(1.181+/-0.018)e-07\n"
     ]
    },
    {
     "data": {
      "text/plain": [
       "[None, None]"
      ]
     },
     "execution_count": 58,
     "metadata": {},
     "output_type": "execute_result"
    }
   ],
   "source": [
    "print(\"Abkühlung 2\")\n",
    "print(\"0° Params\")\n",
    "[print(item) for item in abk1_params]\n",
    "print(\"90° Params\")\n",
    "[print(item) for item in abk2_params]"
   ]
  },
  {
   "cell_type": "code",
   "execution_count": 57,
   "metadata": {},
   "outputs": [
    {
     "data": {
      "image/png": "[encoded data removed]",
      "text/plain": [
       "<Figure size 720x540 with 1 Axes>"
      ]
     },
     "metadata": {
      "needs_background": "light"
     },
     "output_type": "display_data"
    }
   ],
   "source": [
    "\n",
    "\n",
    "\n",
    "#nice plot\n",
    "### FigureSize\n",
    "\n",
    "fig_size = plt.rcParams[\"figure.figsize\"]\n",
    "fig_size[0] = 10\n",
    "fig_size[1] = 7.5\n",
    "plt.rcParams[\"figure.figsize\"] = fig_size\n",
    "\n",
    "###   Errors / Fit / Plot\n",
    "\n",
    "plt.errorbar(x=val(abk_points_0[0]),y=val(abk_points_0[1]),yerr=err(abk_points_0[1]),\n",
    "             xerr=err(abk_points_0[0]),fmt=\"x\",label=\"0°\")\n",
    "plt.errorbar(val(abk_points_90[0]),val(abk_points_90[1]),\n",
    "             xerr=err(abk_points_90[0]),yerr=err(abk_points_90[1]),fmt=\"x\",label=\"90°\")\n",
    "plt,plot(val(abk_points_0[0]),line(val(abk_points_0[0]),*val(abk1_params)),label=\"Fit 0°\")\n",
    "plt,plot(val(abk_points_90[0]),line(val(abk_points_90[0]),*val(abk2_params)),label=\"Fit 90°\")\n",
    "\n",
    "\n",
    "###   Label / Title\n",
    "\n",
    "plt.ylabel(r'Lebensdauer$\\,\\left[s\\right]$', fontsize=13)\n",
    "plt.xlabel(r'Druck $\\left[µPa\\right]$', fontsize=13)\n",
    "plt.title(\"Lebensdauern aller Messreihen der zweiten Abkühlungsmessung\\nmit linearen Regressionen\", fontsize=14)\n",
    "\n",
    "###   Axes / Grid\n",
    "\n",
    "axes = plt.gca()  ##  Searches current Axes\n",
    "\n",
    "#axes.set_xlim([0,0.8])\n",
    "#axes.set_ylim(array((1.1,1.6))*1e-7)\n",
    "\n",
    "#axes.set_yticks([0,10,20,30,40,50,60,70,80,90,100,110])\n",
    "#axes.set_xticks([0.1,0.2,0.3,0.4,0.5,0.6,0.7,0.8])\n",
    "\n",
    "axes.grid(which='major', linestyle='-', linewidth='1', color='black')\n",
    "axes.grid(which='minor', linestyle=':', color='gray')\n",
    "axes.minorticks_on()\n",
    "\n",
    "plt.legend()\n",
    "\n",
    "plt.savefig(\"Abkühlung2_endergebnis\"+'.png')\n",
    "plt.show()"
   ]
  },
  {
   "cell_type": "code",
   "execution_count": 44,
   "metadata": {},
   "outputs": [
    {
     "name": "stdout",
     "output_type": "stream",
     "text": [
      "(1.21+/-0.06)e-07\n"
     ]
    }
   ],
   "source": [
    "print(abk1_params[1])"
   ]
  }
 ],
 "metadata": {
  "kernelspec": {
   "display_name": "Python 3",
   "language": "python",
   "name": "python3"
  },
  "language_info": {
   "codemirror_mode": {
    "name": "ipython",
    "version": 3
   },
   "file_extension": ".py",
   "mimetype": "text/x-python",
   "name": "python",
   "nbconvert_exporter": "python",
   "pygments_lexer": "ipython3",
   "version": "3.7.4"
  }
 },
 "nbformat": 4,
 "nbformat_minor": 2
}
