{
 "cells": [
  {
   "cell_type": "code",
   "execution_count": 1,
   "metadata": {},
   "outputs": [
    {
     "name": "stdout",
     "output_type": "stream",
     "text": [
      "Populating the interactive namespace from numpy and matplotlib\n"
     ]
    }
   ],
   "source": [
    "%pylab inline\n",
    "import ThonkTools as TT\n",
    "from uncertainties import unumpy as unp\n",
    "from uncertainties import ufloat\n",
    "from scipy import interpolate\n",
    "from scipy.optimize import curve_fit\n",
    "import pandas as pd\n",
    "import peakutils\n",
    "from peakutils.plot import plot as pplot"
   ]
  },
  {
   "cell_type": "code",
   "execution_count": 2,
   "metadata": {},
   "outputs": [],
   "source": [
    "def csvReader(x):\n",
    "    \"\"\"\n",
    "        csvReader takes a csv file and creats a list with lists of the colloms.\n",
    "        It also turns strings into numbers if possible.\n",
    "    \"\"\"\n",
    "    import csv\n",
    "    with open(x, 'r') as csvFile:\n",
    "        reader = csv.reader(csvFile)\n",
    "        l = None\n",
    "        for row in reader:\n",
    "            if l == None:\n",
    "                l = [[] for i in range(len(row))]\n",
    "                for i in range(len(l)):\n",
    "                    try:\n",
    "                        try:\n",
    "                            l[i].append(float(row[i]))\n",
    "                        except:\n",
    "                            l[i].append(row[i])\n",
    "                    except:\n",
    "                        None\n",
    "            else:\n",
    "                for i in range(len(l)):\n",
    "                    try:\n",
    "                        try:\n",
    "                            l[i].append(float(row[i]))\n",
    "                        except:\n",
    "                            l[i].append(row[i])\n",
    "                    except:\n",
    "                        None\n",
    "    return l    \n",
    "    csvFile.close()"
   ]
  },
  {
   "cell_type": "code",
   "execution_count": 3,
   "metadata": {},
   "outputs": [],
   "source": [
    "def read(filename):\n",
    "    from numpy import array as array\n",
    "    df = pd.read_csv(filename,skiprows=1,names=[\"Width in A\",\"Voltage in V\"],sep=\"\\t\")\n",
    "    data = [[],[]]\n",
    "\n",
    "    for i in range(2):\n",
    "        for k in range(len(df.iloc[0:,i])):\n",
    "            data[i].append((df.iloc[k,i].replace(\",\",\".\")))\n",
    "    for i in range(len(data)):\n",
    "        for k in range(len(data[i])):\n",
    "            try:\n",
    "                #print(i,k, data[i][k])\n",
    "                data[i][k] = float(data[i][k])\n",
    "            except ValueError:\n",
    "                data[i][k] = 0\n",
    "    for i in range(len(data)):\n",
    "        data[i]= array(data[i])\n",
    "    return data\n",
    "[pos, inte] = range(2)\n",
    "data = read(\"abs30.csv\")"
   ]
  },
  {
   "cell_type": "code",
   "execution_count": 4,
   "metadata": {},
   "outputs": [],
   "source": [
    "def error(arr):\n",
    "    arr_error = []\n",
    "    arr_value = []\n",
    "    for i in range(len(arr)):\n",
    "        arr_error.append(arr[i].std_dev)\n",
    "        arr_value.append(arr[i].nominal_value)\n",
    "    return arr_error, arr_value"
   ]
  },
  {
   "cell_type": "code",
   "execution_count": 16,
   "metadata": {},
   "outputs": [],
   "source": [
    "data1 = read('Eichung1.csv')\n",
    "data2 = read('Eichung2.csv')"
   ]
  },
  {
   "cell_type": "code",
   "execution_count": 17,
   "metadata": {},
   "outputs": [
    {
     "data": {
      "text/plain": [
       "[<matplotlib.lines.Line2D at 0x2119cc48b70>]"
      ]
     },
     "execution_count": 17,
     "metadata": {},
     "output_type": "execute_result"
    },
    {
     "data": {
      "image/png": "[encoded data removed]",
      "text/plain": [
       "<Figure size 432x288 with 1 Axes>"
      ]
     },
     "metadata": {},
     "output_type": "display_data"
    }
   ],
   "source": [
    "plt.plot(data1[0],data1[1])"
   ]
  },
  {
   "cell_type": "code",
   "execution_count": 18,
   "metadata": {},
   "outputs": [
    {
     "data": {
      "text/plain": [
       "[<matplotlib.lines.Line2D at 0x2119cc0b7b8>]"
      ]
     },
     "execution_count": 18,
     "metadata": {},
     "output_type": "execute_result"
    },
    {
     "data": {
      "image/png": "[encoded data removed]",
      "text/plain": [
       "<Figure size 432x288 with 1 Axes>"
      ]
     },
     "metadata": {},
     "output_type": "display_data"
    }
   ],
   "source": [
    "plt.plot(data2[0],data2[1])"
   ]
  },
  {
   "cell_type": "code",
   "execution_count": null,
   "metadata": {},
   "outputs": [],
   "source": []
  }
 ],
 "metadata": {
  "kernelspec": {
   "display_name": "Python 3",
   "language": "python",
   "name": "python3"
  },
  "language_info": {
   "codemirror_mode": {
    "name": "ipython",
    "version": 3
   },
   "file_extension": ".py",
   "mimetype": "text/x-python",
   "name": "python",
   "nbconvert_exporter": "python",
   "pygments_lexer": "ipython3",
   "version": "3.6.4"
  }
 },
 "nbformat": 4,
 "nbformat_minor": 2
}
